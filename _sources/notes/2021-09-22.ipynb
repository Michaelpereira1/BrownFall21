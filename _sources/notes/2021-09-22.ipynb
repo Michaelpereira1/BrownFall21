{
 "cells": [
  {
   "cell_type": "markdown",
   "id": "c28baf5c",
   "metadata": {},
   "source": [
    "# Visualization"
   ]
  },
  {
   "cell_type": "code",
   "execution_count": 1,
   "id": "0ffe3ec0",
   "metadata": {},
   "outputs": [],
   "source": [
    "import pandas as pd\n",
    "import seaborn as sns"
   ]
  },
  {
   "cell_type": "markdown",
   "id": "1ecb4159",
   "metadata": {},
   "source": [
    "## Jupyter FAQ\n",
    "```{admonition} Question from class\n",
    "Why doesn't my jupyter print things out that are on the last line?\n",
    "```\n",
    "\n",
    "Whem we create a variable and then put that on the last line of a cell, jupyter\n",
    "displays it."
   ]
  },
  {
   "cell_type": "code",
   "execution_count": 2,
   "id": "9ada71b2",
   "metadata": {},
   "outputs": [
    {
     "data": {
      "text/plain": [
       "'sarah'"
      ]
     },
     "execution_count": 2,
     "metadata": {},
     "output_type": "execute_result"
    }
   ],
   "source": [
    "name = 'sarah'\n",
    "name"
   ]
  },
  {
   "cell_type": "markdown",
   "id": "6a90ffb7",
   "metadata": {},
   "source": [
    "How it diplsays it depends on the type"
   ]
  },
  {
   "cell_type": "code",
   "execution_count": 3,
   "id": "cb342ec3",
   "metadata": {},
   "outputs": [
    {
     "data": {
      "text/plain": [
       "str"
      ]
     },
     "execution_count": 3,
     "metadata": {},
     "output_type": "execute_result"
    }
   ],
   "source": [
    "type(name)"
   ]
  },
  {
   "cell_type": "markdown",
   "id": "515eb67d",
   "metadata": {},
   "source": [
    "For a string, it uses `print`"
   ]
  },
  {
   "cell_type": "code",
   "execution_count": 4,
   "id": "48c35f24",
   "metadata": {},
   "outputs": [
    {
     "name": "stdout",
     "output_type": "stream",
     "text": [
      "sarah\n"
     ]
    }
   ],
   "source": [
    "print(name)"
   ]
  },
  {
   "cell_type": "markdown",
   "id": "92bb89ac",
   "metadata": {},
   "source": [
    "so this and the one above look the same.  For objects that have a `_repr_html_`\n",
    "method, juypter uses that, and uses html to render the object in a more visually\n",
    "appealing way.\n",
    "\n",
    "\n",
    "## Revewi of describe\n",
    "we're going to work with the arabica data today, because it's a little bigger\n",
    "and more interesting for plotting"
   ]
  },
  {
   "cell_type": "code",
   "execution_count": 5,
   "id": "9ca4b23c",
   "metadata": {},
   "outputs": [],
   "source": [
    "arabica_data_url = 'https://raw.githubusercontent.com/jldbc/coffee-quality-database/master/data/arabica_data_cleaned.csv'\n",
    "\n",
    "coffee_df = pd.read_csv(arabica_data_url)"
   ]
  },
  {
   "cell_type": "markdown",
   "id": "c7b8de0e",
   "metadata": {},
   "source": [
    "We can describe it again, to see it has mostly the same variables we saw before,\n",
    "but some different as well."
   ]
  },
  {
   "cell_type": "code",
   "execution_count": 6,
   "id": "bd37243d",
   "metadata": {},
   "outputs": [
    {
     "data": {
      "text/html": [
       "<div>\n",
       "<style scoped>\n",
       "    .dataframe tbody tr th:only-of-type {\n",
       "        vertical-align: middle;\n",
       "    }\n",
       "\n",
       "    .dataframe tbody tr th {\n",
       "        vertical-align: top;\n",
       "    }\n",
       "\n",
       "    .dataframe thead th {\n",
       "        text-align: right;\n",
       "    }\n",
       "</style>\n",
       "<table border=\"1\" class=\"dataframe\">\n",
       "  <thead>\n",
       "    <tr style=\"text-align: right;\">\n",
       "      <th></th>\n",
       "      <th>Unnamed: 0</th>\n",
       "      <th>Number.of.Bags</th>\n",
       "      <th>Aroma</th>\n",
       "      <th>Flavor</th>\n",
       "      <th>Aftertaste</th>\n",
       "      <th>Acidity</th>\n",
       "      <th>Body</th>\n",
       "      <th>Balance</th>\n",
       "      <th>Uniformity</th>\n",
       "      <th>Clean.Cup</th>\n",
       "      <th>Sweetness</th>\n",
       "      <th>Cupper.Points</th>\n",
       "      <th>Total.Cup.Points</th>\n",
       "      <th>Moisture</th>\n",
       "      <th>Category.One.Defects</th>\n",
       "      <th>Quakers</th>\n",
       "      <th>Category.Two.Defects</th>\n",
       "      <th>altitude_low_meters</th>\n",
       "      <th>altitude_high_meters</th>\n",
       "      <th>altitude_mean_meters</th>\n",
       "    </tr>\n",
       "  </thead>\n",
       "  <tbody>\n",
       "    <tr>\n",
       "      <th>count</th>\n",
       "      <td>1311.000000</td>\n",
       "      <td>1311.000000</td>\n",
       "      <td>1311.000000</td>\n",
       "      <td>1311.000000</td>\n",
       "      <td>1311.000000</td>\n",
       "      <td>1311.000000</td>\n",
       "      <td>1311.000000</td>\n",
       "      <td>1311.000000</td>\n",
       "      <td>1311.000000</td>\n",
       "      <td>1311.00000</td>\n",
       "      <td>1311.000000</td>\n",
       "      <td>1311.000000</td>\n",
       "      <td>1311.000000</td>\n",
       "      <td>1311.000000</td>\n",
       "      <td>1311.000000</td>\n",
       "      <td>1310.000000</td>\n",
       "      <td>1311.000000</td>\n",
       "      <td>1084.000000</td>\n",
       "      <td>1084.000000</td>\n",
       "      <td>1084.000000</td>\n",
       "    </tr>\n",
       "    <tr>\n",
       "      <th>mean</th>\n",
       "      <td>656.000763</td>\n",
       "      <td>153.887872</td>\n",
       "      <td>7.563806</td>\n",
       "      <td>7.518070</td>\n",
       "      <td>7.397696</td>\n",
       "      <td>7.533112</td>\n",
       "      <td>7.517727</td>\n",
       "      <td>7.517506</td>\n",
       "      <td>9.833394</td>\n",
       "      <td>9.83312</td>\n",
       "      <td>9.903272</td>\n",
       "      <td>7.497864</td>\n",
       "      <td>82.115927</td>\n",
       "      <td>0.088863</td>\n",
       "      <td>0.426392</td>\n",
       "      <td>0.177099</td>\n",
       "      <td>3.591915</td>\n",
       "      <td>1759.548954</td>\n",
       "      <td>1808.843803</td>\n",
       "      <td>1784.196379</td>\n",
       "    </tr>\n",
       "    <tr>\n",
       "      <th>std</th>\n",
       "      <td>378.598733</td>\n",
       "      <td>129.733734</td>\n",
       "      <td>0.378666</td>\n",
       "      <td>0.399979</td>\n",
       "      <td>0.405119</td>\n",
       "      <td>0.381599</td>\n",
       "      <td>0.359213</td>\n",
       "      <td>0.406316</td>\n",
       "      <td>0.559343</td>\n",
       "      <td>0.77135</td>\n",
       "      <td>0.530832</td>\n",
       "      <td>0.474610</td>\n",
       "      <td>3.515761</td>\n",
       "      <td>0.047957</td>\n",
       "      <td>1.832415</td>\n",
       "      <td>0.840583</td>\n",
       "      <td>5.350371</td>\n",
       "      <td>8767.847252</td>\n",
       "      <td>8767.187498</td>\n",
       "      <td>8767.016913</td>\n",
       "    </tr>\n",
       "    <tr>\n",
       "      <th>min</th>\n",
       "      <td>1.000000</td>\n",
       "      <td>0.000000</td>\n",
       "      <td>0.000000</td>\n",
       "      <td>0.000000</td>\n",
       "      <td>0.000000</td>\n",
       "      <td>0.000000</td>\n",
       "      <td>0.000000</td>\n",
       "      <td>0.000000</td>\n",
       "      <td>0.000000</td>\n",
       "      <td>0.00000</td>\n",
       "      <td>0.000000</td>\n",
       "      <td>0.000000</td>\n",
       "      <td>0.000000</td>\n",
       "      <td>0.000000</td>\n",
       "      <td>0.000000</td>\n",
       "      <td>0.000000</td>\n",
       "      <td>0.000000</td>\n",
       "      <td>1.000000</td>\n",
       "      <td>1.000000</td>\n",
       "      <td>1.000000</td>\n",
       "    </tr>\n",
       "    <tr>\n",
       "      <th>25%</th>\n",
       "      <td>328.500000</td>\n",
       "      <td>14.500000</td>\n",
       "      <td>7.420000</td>\n",
       "      <td>7.330000</td>\n",
       "      <td>7.250000</td>\n",
       "      <td>7.330000</td>\n",
       "      <td>7.330000</td>\n",
       "      <td>7.330000</td>\n",
       "      <td>10.000000</td>\n",
       "      <td>10.00000</td>\n",
       "      <td>10.000000</td>\n",
       "      <td>7.250000</td>\n",
       "      <td>81.170000</td>\n",
       "      <td>0.090000</td>\n",
       "      <td>0.000000</td>\n",
       "      <td>0.000000</td>\n",
       "      <td>0.000000</td>\n",
       "      <td>1100.000000</td>\n",
       "      <td>1100.000000</td>\n",
       "      <td>1100.000000</td>\n",
       "    </tr>\n",
       "    <tr>\n",
       "      <th>50%</th>\n",
       "      <td>656.000000</td>\n",
       "      <td>175.000000</td>\n",
       "      <td>7.580000</td>\n",
       "      <td>7.580000</td>\n",
       "      <td>7.420000</td>\n",
       "      <td>7.500000</td>\n",
       "      <td>7.500000</td>\n",
       "      <td>7.500000</td>\n",
       "      <td>10.000000</td>\n",
       "      <td>10.00000</td>\n",
       "      <td>10.000000</td>\n",
       "      <td>7.500000</td>\n",
       "      <td>82.500000</td>\n",
       "      <td>0.110000</td>\n",
       "      <td>0.000000</td>\n",
       "      <td>0.000000</td>\n",
       "      <td>2.000000</td>\n",
       "      <td>1310.640000</td>\n",
       "      <td>1350.000000</td>\n",
       "      <td>1310.640000</td>\n",
       "    </tr>\n",
       "    <tr>\n",
       "      <th>75%</th>\n",
       "      <td>983.500000</td>\n",
       "      <td>275.000000</td>\n",
       "      <td>7.750000</td>\n",
       "      <td>7.750000</td>\n",
       "      <td>7.580000</td>\n",
       "      <td>7.750000</td>\n",
       "      <td>7.670000</td>\n",
       "      <td>7.750000</td>\n",
       "      <td>10.000000</td>\n",
       "      <td>10.00000</td>\n",
       "      <td>10.000000</td>\n",
       "      <td>7.750000</td>\n",
       "      <td>83.670000</td>\n",
       "      <td>0.120000</td>\n",
       "      <td>0.000000</td>\n",
       "      <td>0.000000</td>\n",
       "      <td>4.000000</td>\n",
       "      <td>1600.000000</td>\n",
       "      <td>1650.000000</td>\n",
       "      <td>1600.000000</td>\n",
       "    </tr>\n",
       "    <tr>\n",
       "      <th>max</th>\n",
       "      <td>1312.000000</td>\n",
       "      <td>1062.000000</td>\n",
       "      <td>8.750000</td>\n",
       "      <td>8.830000</td>\n",
       "      <td>8.670000</td>\n",
       "      <td>8.750000</td>\n",
       "      <td>8.580000</td>\n",
       "      <td>8.750000</td>\n",
       "      <td>10.000000</td>\n",
       "      <td>10.00000</td>\n",
       "      <td>10.000000</td>\n",
       "      <td>10.000000</td>\n",
       "      <td>90.580000</td>\n",
       "      <td>0.280000</td>\n",
       "      <td>31.000000</td>\n",
       "      <td>11.000000</td>\n",
       "      <td>55.000000</td>\n",
       "      <td>190164.000000</td>\n",
       "      <td>190164.000000</td>\n",
       "      <td>190164.000000</td>\n",
       "    </tr>\n",
       "  </tbody>\n",
       "</table>\n",
       "</div>"
      ],
      "text/plain": [
       "        Unnamed: 0  Number.of.Bags        Aroma       Flavor   Aftertaste  \\\n",
       "count  1311.000000     1311.000000  1311.000000  1311.000000  1311.000000   \n",
       "mean    656.000763      153.887872     7.563806     7.518070     7.397696   \n",
       "std     378.598733      129.733734     0.378666     0.399979     0.405119   \n",
       "min       1.000000        0.000000     0.000000     0.000000     0.000000   \n",
       "25%     328.500000       14.500000     7.420000     7.330000     7.250000   \n",
       "50%     656.000000      175.000000     7.580000     7.580000     7.420000   \n",
       "75%     983.500000      275.000000     7.750000     7.750000     7.580000   \n",
       "max    1312.000000     1062.000000     8.750000     8.830000     8.670000   \n",
       "\n",
       "           Acidity         Body      Balance   Uniformity   Clean.Cup  \\\n",
       "count  1311.000000  1311.000000  1311.000000  1311.000000  1311.00000   \n",
       "mean      7.533112     7.517727     7.517506     9.833394     9.83312   \n",
       "std       0.381599     0.359213     0.406316     0.559343     0.77135   \n",
       "min       0.000000     0.000000     0.000000     0.000000     0.00000   \n",
       "25%       7.330000     7.330000     7.330000    10.000000    10.00000   \n",
       "50%       7.500000     7.500000     7.500000    10.000000    10.00000   \n",
       "75%       7.750000     7.670000     7.750000    10.000000    10.00000   \n",
       "max       8.750000     8.580000     8.750000    10.000000    10.00000   \n",
       "\n",
       "         Sweetness  Cupper.Points  Total.Cup.Points     Moisture  \\\n",
       "count  1311.000000    1311.000000       1311.000000  1311.000000   \n",
       "mean      9.903272       7.497864         82.115927     0.088863   \n",
       "std       0.530832       0.474610          3.515761     0.047957   \n",
       "min       0.000000       0.000000          0.000000     0.000000   \n",
       "25%      10.000000       7.250000         81.170000     0.090000   \n",
       "50%      10.000000       7.500000         82.500000     0.110000   \n",
       "75%      10.000000       7.750000         83.670000     0.120000   \n",
       "max      10.000000      10.000000         90.580000     0.280000   \n",
       "\n",
       "       Category.One.Defects      Quakers  Category.Two.Defects  \\\n",
       "count           1311.000000  1310.000000           1311.000000   \n",
       "mean               0.426392     0.177099              3.591915   \n",
       "std                1.832415     0.840583              5.350371   \n",
       "min                0.000000     0.000000              0.000000   \n",
       "25%                0.000000     0.000000              0.000000   \n",
       "50%                0.000000     0.000000              2.000000   \n",
       "75%                0.000000     0.000000              4.000000   \n",
       "max               31.000000    11.000000             55.000000   \n",
       "\n",
       "       altitude_low_meters  altitude_high_meters  altitude_mean_meters  \n",
       "count          1084.000000           1084.000000           1084.000000  \n",
       "mean           1759.548954           1808.843803           1784.196379  \n",
       "std            8767.847252           8767.187498           8767.016913  \n",
       "min               1.000000              1.000000              1.000000  \n",
       "25%            1100.000000           1100.000000           1100.000000  \n",
       "50%            1310.640000           1350.000000           1310.640000  \n",
       "75%            1600.000000           1650.000000           1600.000000  \n",
       "max          190164.000000         190164.000000         190164.000000  "
      ]
     },
     "execution_count": 6,
     "metadata": {},
     "output_type": "execute_result"
    }
   ],
   "source": [
    "coffee_df.describe()"
   ]
  },
  {
   "cell_type": "markdown",
   "id": "5347822f",
   "metadata": {},
   "source": [
    "```{admonition} Question from class\n",
    "Why do we need the `()` on the describe but not on just the data\n",
    "```\n",
    "\n",
    "As is often the case, again this comes back to the type."
   ]
  },
  {
   "cell_type": "code",
   "execution_count": 7,
   "id": "5675877e",
   "metadata": {},
   "outputs": [
    {
     "data": {
      "text/plain": [
       "pandas.core.frame.DataFrame"
      ]
     },
     "execution_count": 7,
     "metadata": {},
     "output_type": "execute_result"
    }
   ],
   "source": [
    "type(coffee_df)"
   ]
  },
  {
   "cell_type": "markdown",
   "id": "ded96fbb",
   "metadata": {},
   "source": [
    "is a data frame which has the  `_repr_html_` method\n",
    "\n",
    "````{margin}\n",
    "```{note}\n",
    "notice that this one has the ... in the columns and rows directions.\n",
    "```\n",
    "```{admonition} Try it Yourself\n",
    "what can you check in a dataFrame to predict if it will display with or without\n",
    "the ...?\n",
    "```\n",
    "````"
   ]
  },
  {
   "cell_type": "code",
   "execution_count": 8,
   "id": "7b70f527",
   "metadata": {},
   "outputs": [
    {
     "data": {
      "text/html": [
       "<div>\n",
       "<style scoped>\n",
       "    .dataframe tbody tr th:only-of-type {\n",
       "        vertical-align: middle;\n",
       "    }\n",
       "\n",
       "    .dataframe tbody tr th {\n",
       "        vertical-align: top;\n",
       "    }\n",
       "\n",
       "    .dataframe thead th {\n",
       "        text-align: right;\n",
       "    }\n",
       "</style>\n",
       "<table border=\"1\" class=\"dataframe\">\n",
       "  <thead>\n",
       "    <tr style=\"text-align: right;\">\n",
       "      <th></th>\n",
       "      <th>Unnamed: 0</th>\n",
       "      <th>Species</th>\n",
       "      <th>Owner</th>\n",
       "      <th>Country.of.Origin</th>\n",
       "      <th>Farm.Name</th>\n",
       "      <th>Lot.Number</th>\n",
       "      <th>Mill</th>\n",
       "      <th>ICO.Number</th>\n",
       "      <th>Company</th>\n",
       "      <th>Altitude</th>\n",
       "      <th>...</th>\n",
       "      <th>Color</th>\n",
       "      <th>Category.Two.Defects</th>\n",
       "      <th>Expiration</th>\n",
       "      <th>Certification.Body</th>\n",
       "      <th>Certification.Address</th>\n",
       "      <th>Certification.Contact</th>\n",
       "      <th>unit_of_measurement</th>\n",
       "      <th>altitude_low_meters</th>\n",
       "      <th>altitude_high_meters</th>\n",
       "      <th>altitude_mean_meters</th>\n",
       "    </tr>\n",
       "  </thead>\n",
       "  <tbody>\n",
       "    <tr>\n",
       "      <th>0</th>\n",
       "      <td>1</td>\n",
       "      <td>Arabica</td>\n",
       "      <td>metad plc</td>\n",
       "      <td>Ethiopia</td>\n",
       "      <td>metad plc</td>\n",
       "      <td>NaN</td>\n",
       "      <td>metad plc</td>\n",
       "      <td>2014/2015</td>\n",
       "      <td>metad agricultural developmet plc</td>\n",
       "      <td>1950-2200</td>\n",
       "      <td>...</td>\n",
       "      <td>Green</td>\n",
       "      <td>0</td>\n",
       "      <td>April 3rd, 2016</td>\n",
       "      <td>METAD Agricultural Development plc</td>\n",
       "      <td>309fcf77415a3661ae83e027f7e5f05dad786e44</td>\n",
       "      <td>19fef5a731de2db57d16da10287413f5f99bc2dd</td>\n",
       "      <td>m</td>\n",
       "      <td>1950.00</td>\n",
       "      <td>2200.00</td>\n",
       "      <td>2075.00</td>\n",
       "    </tr>\n",
       "    <tr>\n",
       "      <th>1</th>\n",
       "      <td>2</td>\n",
       "      <td>Arabica</td>\n",
       "      <td>metad plc</td>\n",
       "      <td>Ethiopia</td>\n",
       "      <td>metad plc</td>\n",
       "      <td>NaN</td>\n",
       "      <td>metad plc</td>\n",
       "      <td>2014/2015</td>\n",
       "      <td>metad agricultural developmet plc</td>\n",
       "      <td>1950-2200</td>\n",
       "      <td>...</td>\n",
       "      <td>Green</td>\n",
       "      <td>1</td>\n",
       "      <td>April 3rd, 2016</td>\n",
       "      <td>METAD Agricultural Development plc</td>\n",
       "      <td>309fcf77415a3661ae83e027f7e5f05dad786e44</td>\n",
       "      <td>19fef5a731de2db57d16da10287413f5f99bc2dd</td>\n",
       "      <td>m</td>\n",
       "      <td>1950.00</td>\n",
       "      <td>2200.00</td>\n",
       "      <td>2075.00</td>\n",
       "    </tr>\n",
       "    <tr>\n",
       "      <th>2</th>\n",
       "      <td>3</td>\n",
       "      <td>Arabica</td>\n",
       "      <td>grounds for health admin</td>\n",
       "      <td>Guatemala</td>\n",
       "      <td>san marcos barrancas \"san cristobal cuch</td>\n",
       "      <td>NaN</td>\n",
       "      <td>NaN</td>\n",
       "      <td>NaN</td>\n",
       "      <td>NaN</td>\n",
       "      <td>1600 - 1800 m</td>\n",
       "      <td>...</td>\n",
       "      <td>NaN</td>\n",
       "      <td>0</td>\n",
       "      <td>May 31st, 2011</td>\n",
       "      <td>Specialty Coffee Association</td>\n",
       "      <td>36d0d00a3724338ba7937c52a378d085f2172daa</td>\n",
       "      <td>0878a7d4b9d35ddbf0fe2ce69a2062cceb45a660</td>\n",
       "      <td>m</td>\n",
       "      <td>1600.00</td>\n",
       "      <td>1800.00</td>\n",
       "      <td>1700.00</td>\n",
       "    </tr>\n",
       "    <tr>\n",
       "      <th>3</th>\n",
       "      <td>4</td>\n",
       "      <td>Arabica</td>\n",
       "      <td>yidnekachew dabessa</td>\n",
       "      <td>Ethiopia</td>\n",
       "      <td>yidnekachew dabessa coffee plantation</td>\n",
       "      <td>NaN</td>\n",
       "      <td>wolensu</td>\n",
       "      <td>NaN</td>\n",
       "      <td>yidnekachew debessa coffee plantation</td>\n",
       "      <td>1800-2200</td>\n",
       "      <td>...</td>\n",
       "      <td>Green</td>\n",
       "      <td>2</td>\n",
       "      <td>March 25th, 2016</td>\n",
       "      <td>METAD Agricultural Development plc</td>\n",
       "      <td>309fcf77415a3661ae83e027f7e5f05dad786e44</td>\n",
       "      <td>19fef5a731de2db57d16da10287413f5f99bc2dd</td>\n",
       "      <td>m</td>\n",
       "      <td>1800.00</td>\n",
       "      <td>2200.00</td>\n",
       "      <td>2000.00</td>\n",
       "    </tr>\n",
       "    <tr>\n",
       "      <th>4</th>\n",
       "      <td>5</td>\n",
       "      <td>Arabica</td>\n",
       "      <td>metad plc</td>\n",
       "      <td>Ethiopia</td>\n",
       "      <td>metad plc</td>\n",
       "      <td>NaN</td>\n",
       "      <td>metad plc</td>\n",
       "      <td>2014/2015</td>\n",
       "      <td>metad agricultural developmet plc</td>\n",
       "      <td>1950-2200</td>\n",
       "      <td>...</td>\n",
       "      <td>Green</td>\n",
       "      <td>2</td>\n",
       "      <td>April 3rd, 2016</td>\n",
       "      <td>METAD Agricultural Development plc</td>\n",
       "      <td>309fcf77415a3661ae83e027f7e5f05dad786e44</td>\n",
       "      <td>19fef5a731de2db57d16da10287413f5f99bc2dd</td>\n",
       "      <td>m</td>\n",
       "      <td>1950.00</td>\n",
       "      <td>2200.00</td>\n",
       "      <td>2075.00</td>\n",
       "    </tr>\n",
       "    <tr>\n",
       "      <th>...</th>\n",
       "      <td>...</td>\n",
       "      <td>...</td>\n",
       "      <td>...</td>\n",
       "      <td>...</td>\n",
       "      <td>...</td>\n",
       "      <td>...</td>\n",
       "      <td>...</td>\n",
       "      <td>...</td>\n",
       "      <td>...</td>\n",
       "      <td>...</td>\n",
       "      <td>...</td>\n",
       "      <td>...</td>\n",
       "      <td>...</td>\n",
       "      <td>...</td>\n",
       "      <td>...</td>\n",
       "      <td>...</td>\n",
       "      <td>...</td>\n",
       "      <td>...</td>\n",
       "      <td>...</td>\n",
       "      <td>...</td>\n",
       "      <td>...</td>\n",
       "    </tr>\n",
       "    <tr>\n",
       "      <th>1306</th>\n",
       "      <td>1307</td>\n",
       "      <td>Arabica</td>\n",
       "      <td>juan carlos garcia lopez</td>\n",
       "      <td>Mexico</td>\n",
       "      <td>el centenario</td>\n",
       "      <td>NaN</td>\n",
       "      <td>la esperanza, municipio juchique de ferrer, ve...</td>\n",
       "      <td>1104328663</td>\n",
       "      <td>terra mia</td>\n",
       "      <td>900</td>\n",
       "      <td>...</td>\n",
       "      <td>None</td>\n",
       "      <td>20</td>\n",
       "      <td>September 17th, 2013</td>\n",
       "      <td>AMECAFE</td>\n",
       "      <td>59e396ad6e22a1c22b248f958e1da2bd8af85272</td>\n",
       "      <td>0eb4ee5b3f47b20b049548a2fd1e7d4a2b70d0a7</td>\n",
       "      <td>m</td>\n",
       "      <td>900.00</td>\n",
       "      <td>900.00</td>\n",
       "      <td>900.00</td>\n",
       "    </tr>\n",
       "    <tr>\n",
       "      <th>1307</th>\n",
       "      <td>1308</td>\n",
       "      <td>Arabica</td>\n",
       "      <td>myriam kaplan-pasternak</td>\n",
       "      <td>Haiti</td>\n",
       "      <td>200 farms</td>\n",
       "      <td>NaN</td>\n",
       "      <td>coeb koperativ ekselsyo basen (350 members)</td>\n",
       "      <td>NaN</td>\n",
       "      <td>haiti coffee</td>\n",
       "      <td>~350m</td>\n",
       "      <td>...</td>\n",
       "      <td>Blue-Green</td>\n",
       "      <td>16</td>\n",
       "      <td>May 24th, 2013</td>\n",
       "      <td>Specialty Coffee Association</td>\n",
       "      <td>36d0d00a3724338ba7937c52a378d085f2172daa</td>\n",
       "      <td>0878a7d4b9d35ddbf0fe2ce69a2062cceb45a660</td>\n",
       "      <td>m</td>\n",
       "      <td>350.00</td>\n",
       "      <td>350.00</td>\n",
       "      <td>350.00</td>\n",
       "    </tr>\n",
       "    <tr>\n",
       "      <th>1308</th>\n",
       "      <td>1309</td>\n",
       "      <td>Arabica</td>\n",
       "      <td>exportadora atlantic, s.a.</td>\n",
       "      <td>Nicaragua</td>\n",
       "      <td>finca las marías</td>\n",
       "      <td>017-053-0211/ 017-053-0212</td>\n",
       "      <td>beneficio atlantic condega</td>\n",
       "      <td>017-053-0211/ 017-053-0212</td>\n",
       "      <td>exportadora atlantic s.a</td>\n",
       "      <td>1100</td>\n",
       "      <td>...</td>\n",
       "      <td>Green</td>\n",
       "      <td>5</td>\n",
       "      <td>June 6th, 2018</td>\n",
       "      <td>Instituto Hondureño del Café</td>\n",
       "      <td>b4660a57e9f8cc613ae5b8f02bfce8634c763ab4</td>\n",
       "      <td>7f521ca403540f81ec99daec7da19c2788393880</td>\n",
       "      <td>m</td>\n",
       "      <td>1100.00</td>\n",
       "      <td>1100.00</td>\n",
       "      <td>1100.00</td>\n",
       "    </tr>\n",
       "    <tr>\n",
       "      <th>1309</th>\n",
       "      <td>1310</td>\n",
       "      <td>Arabica</td>\n",
       "      <td>juan luis alvarado romero</td>\n",
       "      <td>Guatemala</td>\n",
       "      <td>finca el limon</td>\n",
       "      <td>NaN</td>\n",
       "      <td>beneficio serben</td>\n",
       "      <td>11/853/165</td>\n",
       "      <td>unicafe</td>\n",
       "      <td>4650</td>\n",
       "      <td>...</td>\n",
       "      <td>Green</td>\n",
       "      <td>4</td>\n",
       "      <td>May 24th, 2013</td>\n",
       "      <td>Asociacion Nacional Del Café</td>\n",
       "      <td>b1f20fe3a819fd6b2ee0eb8fdc3da256604f1e53</td>\n",
       "      <td>724f04ad10ed31dbb9d260f0dfd221ba48be8a95</td>\n",
       "      <td>ft</td>\n",
       "      <td>1417.32</td>\n",
       "      <td>1417.32</td>\n",
       "      <td>1417.32</td>\n",
       "    </tr>\n",
       "    <tr>\n",
       "      <th>1310</th>\n",
       "      <td>1312</td>\n",
       "      <td>Arabica</td>\n",
       "      <td>bismarck castro</td>\n",
       "      <td>Honduras</td>\n",
       "      <td>los hicaques</td>\n",
       "      <td>103</td>\n",
       "      <td>cigrah s.a de c.v.</td>\n",
       "      <td>13-111-053</td>\n",
       "      <td>cigrah s.a de c.v</td>\n",
       "      <td>1400</td>\n",
       "      <td>...</td>\n",
       "      <td>Green</td>\n",
       "      <td>2</td>\n",
       "      <td>April 28th, 2018</td>\n",
       "      <td>Instituto Hondureño del Café</td>\n",
       "      <td>b4660a57e9f8cc613ae5b8f02bfce8634c763ab4</td>\n",
       "      <td>7f521ca403540f81ec99daec7da19c2788393880</td>\n",
       "      <td>m</td>\n",
       "      <td>1400.00</td>\n",
       "      <td>1400.00</td>\n",
       "      <td>1400.00</td>\n",
       "    </tr>\n",
       "  </tbody>\n",
       "</table>\n",
       "<p>1311 rows × 44 columns</p>\n",
       "</div>"
      ],
      "text/plain": [
       "      Unnamed: 0  Species                       Owner Country.of.Origin  \\\n",
       "0              1  Arabica                   metad plc          Ethiopia   \n",
       "1              2  Arabica                   metad plc          Ethiopia   \n",
       "2              3  Arabica    grounds for health admin         Guatemala   \n",
       "3              4  Arabica         yidnekachew dabessa          Ethiopia   \n",
       "4              5  Arabica                   metad plc          Ethiopia   \n",
       "...          ...      ...                         ...               ...   \n",
       "1306        1307  Arabica    juan carlos garcia lopez            Mexico   \n",
       "1307        1308  Arabica     myriam kaplan-pasternak             Haiti   \n",
       "1308        1309  Arabica  exportadora atlantic, s.a.         Nicaragua   \n",
       "1309        1310  Arabica   juan luis alvarado romero         Guatemala   \n",
       "1310        1312  Arabica             bismarck castro          Honduras   \n",
       "\n",
       "                                     Farm.Name                  Lot.Number  \\\n",
       "0                                    metad plc                         NaN   \n",
       "1                                    metad plc                         NaN   \n",
       "2     san marcos barrancas \"san cristobal cuch                         NaN   \n",
       "3        yidnekachew dabessa coffee plantation                         NaN   \n",
       "4                                    metad plc                         NaN   \n",
       "...                                        ...                         ...   \n",
       "1306                             el centenario                         NaN   \n",
       "1307                                 200 farms                         NaN   \n",
       "1308                          finca las marías  017-053-0211/ 017-053-0212   \n",
       "1309                            finca el limon                         NaN   \n",
       "1310                              los hicaques                         103   \n",
       "\n",
       "                                                   Mill  \\\n",
       "0                                             metad plc   \n",
       "1                                             metad plc   \n",
       "2                                                   NaN   \n",
       "3                                               wolensu   \n",
       "4                                             metad plc   \n",
       "...                                                 ...   \n",
       "1306  la esperanza, municipio juchique de ferrer, ve...   \n",
       "1307        coeb koperativ ekselsyo basen (350 members)   \n",
       "1308                         beneficio atlantic condega   \n",
       "1309                                   beneficio serben   \n",
       "1310                                 cigrah s.a de c.v.   \n",
       "\n",
       "                      ICO.Number                                Company  \\\n",
       "0                      2014/2015      metad agricultural developmet plc   \n",
       "1                      2014/2015      metad agricultural developmet plc   \n",
       "2                            NaN                                    NaN   \n",
       "3                            NaN  yidnekachew debessa coffee plantation   \n",
       "4                      2014/2015      metad agricultural developmet plc   \n",
       "...                          ...                                    ...   \n",
       "1306                  1104328663                              terra mia   \n",
       "1307                         NaN                           haiti coffee   \n",
       "1308  017-053-0211/ 017-053-0212               exportadora atlantic s.a   \n",
       "1309                  11/853/165                                unicafe   \n",
       "1310                  13-111-053                      cigrah s.a de c.v   \n",
       "\n",
       "           Altitude  ...       Color Category.Two.Defects  \\\n",
       "0         1950-2200  ...       Green                    0   \n",
       "1         1950-2200  ...       Green                    1   \n",
       "2     1600 - 1800 m  ...         NaN                    0   \n",
       "3         1800-2200  ...       Green                    2   \n",
       "4         1950-2200  ...       Green                    2   \n",
       "...             ...  ...         ...                  ...   \n",
       "1306            900  ...        None                   20   \n",
       "1307          ~350m  ...  Blue-Green                   16   \n",
       "1308           1100  ...       Green                    5   \n",
       "1309           4650  ...       Green                    4   \n",
       "1310           1400  ...       Green                    2   \n",
       "\n",
       "                Expiration                  Certification.Body  \\\n",
       "0          April 3rd, 2016  METAD Agricultural Development plc   \n",
       "1          April 3rd, 2016  METAD Agricultural Development plc   \n",
       "2           May 31st, 2011        Specialty Coffee Association   \n",
       "3         March 25th, 2016  METAD Agricultural Development plc   \n",
       "4          April 3rd, 2016  METAD Agricultural Development plc   \n",
       "...                    ...                                 ...   \n",
       "1306  September 17th, 2013                             AMECAFE   \n",
       "1307        May 24th, 2013        Specialty Coffee Association   \n",
       "1308        June 6th, 2018        Instituto Hondureño del Café   \n",
       "1309        May 24th, 2013        Asociacion Nacional Del Café   \n",
       "1310      April 28th, 2018        Instituto Hondureño del Café   \n",
       "\n",
       "                         Certification.Address  \\\n",
       "0     309fcf77415a3661ae83e027f7e5f05dad786e44   \n",
       "1     309fcf77415a3661ae83e027f7e5f05dad786e44   \n",
       "2     36d0d00a3724338ba7937c52a378d085f2172daa   \n",
       "3     309fcf77415a3661ae83e027f7e5f05dad786e44   \n",
       "4     309fcf77415a3661ae83e027f7e5f05dad786e44   \n",
       "...                                        ...   \n",
       "1306  59e396ad6e22a1c22b248f958e1da2bd8af85272   \n",
       "1307  36d0d00a3724338ba7937c52a378d085f2172daa   \n",
       "1308  b4660a57e9f8cc613ae5b8f02bfce8634c763ab4   \n",
       "1309  b1f20fe3a819fd6b2ee0eb8fdc3da256604f1e53   \n",
       "1310  b4660a57e9f8cc613ae5b8f02bfce8634c763ab4   \n",
       "\n",
       "                         Certification.Contact unit_of_measurement  \\\n",
       "0     19fef5a731de2db57d16da10287413f5f99bc2dd                   m   \n",
       "1     19fef5a731de2db57d16da10287413f5f99bc2dd                   m   \n",
       "2     0878a7d4b9d35ddbf0fe2ce69a2062cceb45a660                   m   \n",
       "3     19fef5a731de2db57d16da10287413f5f99bc2dd                   m   \n",
       "4     19fef5a731de2db57d16da10287413f5f99bc2dd                   m   \n",
       "...                                        ...                 ...   \n",
       "1306  0eb4ee5b3f47b20b049548a2fd1e7d4a2b70d0a7                   m   \n",
       "1307  0878a7d4b9d35ddbf0fe2ce69a2062cceb45a660                   m   \n",
       "1308  7f521ca403540f81ec99daec7da19c2788393880                   m   \n",
       "1309  724f04ad10ed31dbb9d260f0dfd221ba48be8a95                  ft   \n",
       "1310  7f521ca403540f81ec99daec7da19c2788393880                   m   \n",
       "\n",
       "     altitude_low_meters altitude_high_meters altitude_mean_meters  \n",
       "0                1950.00              2200.00              2075.00  \n",
       "1                1950.00              2200.00              2075.00  \n",
       "2                1600.00              1800.00              1700.00  \n",
       "3                1800.00              2200.00              2000.00  \n",
       "4                1950.00              2200.00              2075.00  \n",
       "...                  ...                  ...                  ...  \n",
       "1306              900.00               900.00               900.00  \n",
       "1307              350.00               350.00               350.00  \n",
       "1308             1100.00              1100.00              1100.00  \n",
       "1309             1417.32              1417.32              1417.32  \n",
       "1310             1400.00              1400.00              1400.00  \n",
       "\n",
       "[1311 rows x 44 columns]"
      ]
     },
     "execution_count": 8,
     "metadata": {},
     "output_type": "execute_result"
    }
   ],
   "source": [
    "coffee_df"
   ]
  },
  {
   "cell_type": "markdown",
   "id": "f575d517",
   "metadata": {},
   "source": [
    "so it prints nicely as tdid the `coffee_df.describe()`\n",
    "\n",
    "If we leave the `()` off we don't get nice formatting\n",
    "\n",
    "````{margin}\n",
    "```{hint}\n",
    "when objects do not have the `_repr_html_` method their output includes the type\n",
    "```\n",
    "````"
   ]
  },
  {
   "cell_type": "code",
   "execution_count": 9,
   "id": "69aac25d",
   "metadata": {},
   "outputs": [
    {
     "data": {
      "text/plain": [
       "<bound method NDFrame.describe of       Unnamed: 0  Species                       Owner Country.of.Origin  \\\n",
       "0              1  Arabica                   metad plc          Ethiopia   \n",
       "1              2  Arabica                   metad plc          Ethiopia   \n",
       "2              3  Arabica    grounds for health admin         Guatemala   \n",
       "3              4  Arabica         yidnekachew dabessa          Ethiopia   \n",
       "4              5  Arabica                   metad plc          Ethiopia   \n",
       "...          ...      ...                         ...               ...   \n",
       "1306        1307  Arabica    juan carlos garcia lopez            Mexico   \n",
       "1307        1308  Arabica     myriam kaplan-pasternak             Haiti   \n",
       "1308        1309  Arabica  exportadora atlantic, s.a.         Nicaragua   \n",
       "1309        1310  Arabica   juan luis alvarado romero         Guatemala   \n",
       "1310        1312  Arabica             bismarck castro          Honduras   \n",
       "\n",
       "                                     Farm.Name                  Lot.Number  \\\n",
       "0                                    metad plc                         NaN   \n",
       "1                                    metad plc                         NaN   \n",
       "2     san marcos barrancas \"san cristobal cuch                         NaN   \n",
       "3        yidnekachew dabessa coffee plantation                         NaN   \n",
       "4                                    metad plc                         NaN   \n",
       "...                                        ...                         ...   \n",
       "1306                             el centenario                         NaN   \n",
       "1307                                 200 farms                         NaN   \n",
       "1308                          finca las marías  017-053-0211/ 017-053-0212   \n",
       "1309                            finca el limon                         NaN   \n",
       "1310                              los hicaques                         103   \n",
       "\n",
       "                                                   Mill  \\\n",
       "0                                             metad plc   \n",
       "1                                             metad plc   \n",
       "2                                                   NaN   \n",
       "3                                               wolensu   \n",
       "4                                             metad plc   \n",
       "...                                                 ...   \n",
       "1306  la esperanza, municipio juchique de ferrer, ve...   \n",
       "1307        coeb koperativ ekselsyo basen (350 members)   \n",
       "1308                         beneficio atlantic condega   \n",
       "1309                                   beneficio serben   \n",
       "1310                                 cigrah s.a de c.v.   \n",
       "\n",
       "                      ICO.Number                                Company  \\\n",
       "0                      2014/2015      metad agricultural developmet plc   \n",
       "1                      2014/2015      metad agricultural developmet plc   \n",
       "2                            NaN                                    NaN   \n",
       "3                            NaN  yidnekachew debessa coffee plantation   \n",
       "4                      2014/2015      metad agricultural developmet plc   \n",
       "...                          ...                                    ...   \n",
       "1306                  1104328663                              terra mia   \n",
       "1307                         NaN                           haiti coffee   \n",
       "1308  017-053-0211/ 017-053-0212               exportadora atlantic s.a   \n",
       "1309                  11/853/165                                unicafe   \n",
       "1310                  13-111-053                      cigrah s.a de c.v   \n",
       "\n",
       "           Altitude  ...       Color Category.Two.Defects  \\\n",
       "0         1950-2200  ...       Green                    0   \n",
       "1         1950-2200  ...       Green                    1   \n",
       "2     1600 - 1800 m  ...         NaN                    0   \n",
       "3         1800-2200  ...       Green                    2   \n",
       "4         1950-2200  ...       Green                    2   \n",
       "...             ...  ...         ...                  ...   \n",
       "1306            900  ...        None                   20   \n",
       "1307          ~350m  ...  Blue-Green                   16   \n",
       "1308           1100  ...       Green                    5   \n",
       "1309           4650  ...       Green                    4   \n",
       "1310           1400  ...       Green                    2   \n",
       "\n",
       "                Expiration                  Certification.Body  \\\n",
       "0          April 3rd, 2016  METAD Agricultural Development plc   \n",
       "1          April 3rd, 2016  METAD Agricultural Development plc   \n",
       "2           May 31st, 2011        Specialty Coffee Association   \n",
       "3         March 25th, 2016  METAD Agricultural Development plc   \n",
       "4          April 3rd, 2016  METAD Agricultural Development plc   \n",
       "...                    ...                                 ...   \n",
       "1306  September 17th, 2013                             AMECAFE   \n",
       "1307        May 24th, 2013        Specialty Coffee Association   \n",
       "1308        June 6th, 2018        Instituto Hondureño del Café   \n",
       "1309        May 24th, 2013        Asociacion Nacional Del Café   \n",
       "1310      April 28th, 2018        Instituto Hondureño del Café   \n",
       "\n",
       "                         Certification.Address  \\\n",
       "0     309fcf77415a3661ae83e027f7e5f05dad786e44   \n",
       "1     309fcf77415a3661ae83e027f7e5f05dad786e44   \n",
       "2     36d0d00a3724338ba7937c52a378d085f2172daa   \n",
       "3     309fcf77415a3661ae83e027f7e5f05dad786e44   \n",
       "4     309fcf77415a3661ae83e027f7e5f05dad786e44   \n",
       "...                                        ...   \n",
       "1306  59e396ad6e22a1c22b248f958e1da2bd8af85272   \n",
       "1307  36d0d00a3724338ba7937c52a378d085f2172daa   \n",
       "1308  b4660a57e9f8cc613ae5b8f02bfce8634c763ab4   \n",
       "1309  b1f20fe3a819fd6b2ee0eb8fdc3da256604f1e53   \n",
       "1310  b4660a57e9f8cc613ae5b8f02bfce8634c763ab4   \n",
       "\n",
       "                         Certification.Contact unit_of_measurement  \\\n",
       "0     19fef5a731de2db57d16da10287413f5f99bc2dd                   m   \n",
       "1     19fef5a731de2db57d16da10287413f5f99bc2dd                   m   \n",
       "2     0878a7d4b9d35ddbf0fe2ce69a2062cceb45a660                   m   \n",
       "3     19fef5a731de2db57d16da10287413f5f99bc2dd                   m   \n",
       "4     19fef5a731de2db57d16da10287413f5f99bc2dd                   m   \n",
       "...                                        ...                 ...   \n",
       "1306  0eb4ee5b3f47b20b049548a2fd1e7d4a2b70d0a7                   m   \n",
       "1307  0878a7d4b9d35ddbf0fe2ce69a2062cceb45a660                   m   \n",
       "1308  7f521ca403540f81ec99daec7da19c2788393880                   m   \n",
       "1309  724f04ad10ed31dbb9d260f0dfd221ba48be8a95                  ft   \n",
       "1310  7f521ca403540f81ec99daec7da19c2788393880                   m   \n",
       "\n",
       "     altitude_low_meters altitude_high_meters altitude_mean_meters  \n",
       "0                1950.00              2200.00              2075.00  \n",
       "1                1950.00              2200.00              2075.00  \n",
       "2                1600.00              1800.00              1700.00  \n",
       "3                1800.00              2200.00              2000.00  \n",
       "4                1950.00              2200.00              2075.00  \n",
       "...                  ...                  ...                  ...  \n",
       "1306              900.00               900.00               900.00  \n",
       "1307              350.00               350.00               350.00  \n",
       "1308             1100.00              1100.00              1100.00  \n",
       "1309             1417.32              1417.32              1417.32  \n",
       "1310             1400.00              1400.00              1400.00  \n",
       "\n",
       "[1311 rows x 44 columns]>"
      ]
     },
     "execution_count": 9,
     "metadata": {},
     "output_type": "execute_result"
    }
   ],
   "source": [
    "coffee_df.describe"
   ]
  },
  {
   "cell_type": "markdown",
   "id": "71f3f9aa",
   "metadata": {},
   "source": [
    "so lets check the type of that."
   ]
  },
  {
   "cell_type": "code",
   "execution_count": 10,
   "id": "2617c142",
   "metadata": {},
   "outputs": [
    {
     "data": {
      "text/plain": [
       "method"
      ]
     },
     "execution_count": 10,
     "metadata": {},
     "output_type": "execute_result"
    }
   ],
   "source": [
    "type(coffee_df.describe)"
   ]
  },
  {
   "cell_type": "markdown",
   "id": "47b1a92d",
   "metadata": {},
   "source": [
    "it's a `bound method` or a function that *will* be applied to the DataFrame, but\n",
    "we didn't actually run the method.  To see that it hasn't run, we can use an\n",
    "ipython[^ipy] [magic `%%timeit`](https://ipython.readthedocs.io/en/stable/interactive/magics.html#magic-timeit)\n",
    "\n",
    "[^ipy]: the kernel of python we're using\n",
    "\n",
    "````{margin}\n",
    "```{admonition} Further reading\n",
    "The [magic functions](https://ipython.readthedocs.io/en/stable/interactive/magics.html#)\n",
    "can be defined for a cell or a line.\n",
    "[Timeit](https://docs.python.org/3/library/timeit.html)\n",
    "is actually a standard python library that you can call on the command line or in a python\n",
    "script as well, but juypter, by way of ipython gives us easy access to it with\n",
    "nice defaults.\n",
    "```\n",
    "````"
   ]
  },
  {
   "cell_type": "code",
   "execution_count": 11,
   "id": "b40723fd",
   "metadata": {},
   "outputs": [
    {
     "name": "stdout",
     "output_type": "stream",
     "text": [
      "95.5 ns ± 3.39 ns per loop (mean ± std. dev. of 7 runs, 10000000 loops each)\n"
     ]
    }
   ],
   "source": [
    "%%timeit\n",
    "coffee_df.describe"
   ]
  },
  {
   "cell_type": "code",
   "execution_count": 12,
   "id": "2db8b87f",
   "metadata": {},
   "outputs": [
    {
     "name": "stdout",
     "output_type": "stream",
     "text": [
      "48.5 ms ± 259 µs per loop (mean ± std. dev. of 7 runs, 10 loops each)\n"
     ]
    }
   ],
   "source": [
    "%%timeit\n",
    "coffee_df.describe()"
   ]
  },
  {
   "cell_type": "markdown",
   "id": "68640a2f",
   "metadata": {},
   "source": [
    "Note that without the `()` it runs much much faster, signaling that it did less\n",
    "finding the method, is less calcuation than computing statistics on the data\n",
    "\n",
    "## Basic plots in pandas\n",
    "\n",
    "\n",
    "Pandas gives us basic plots."
   ]
  },
  {
   "cell_type": "code",
   "execution_count": 13,
   "id": "711e5108",
   "metadata": {},
   "outputs": [
    {
     "data": {
      "text/plain": [
       "<AxesSubplot:>"
      ]
     },
     "execution_count": 13,
     "metadata": {},
     "output_type": "execute_result"
    },
    {
     "data": {
      "image/png": "[encoded data removed]",
      "text/plain": [
       "<Figure size 432x288 with 1 Axes>"
      ]
     },
     "metadata": {
      "filenames": {
       "image/png": "/home/runner/work/BrownFall21/BrownFall21/_build/jupyter_execute/notes/2021-09-22_24_1.png"
      },
      "needs_background": "light"
     },
     "output_type": "display_data"
    }
   ],
   "source": [
    "coffee_df['Flavor'].plot()"
   ]
  },
  {
   "cell_type": "markdown",
   "id": "6db64c79",
   "metadata": {},
   "source": [
    "Since we chose a series, it plotted that data as line vs the index."
   ]
  },
  {
   "cell_type": "code",
   "execution_count": 14,
   "id": "6160373e",
   "metadata": {},
   "outputs": [
    {
     "data": {
      "text/plain": [
       "RangeIndex(start=0, stop=1311, step=1)"
      ]
     },
     "execution_count": 14,
     "metadata": {},
     "output_type": "execute_result"
    }
   ],
   "source": [
    "coffee_df.index"
   ]
  },
  {
   "cell_type": "markdown",
   "id": "ae40ab1a",
   "metadata": {},
   "source": [
    "We can change the kind, for example to a [Kernel Density Estimate](https://en.wikipedia.org/wiki/Kernel_density_estimation).\n",
    "This approximates the distribution of the data, you can think of it rougly like\n",
    "a smoothed out histogram."
   ]
  },
  {
   "cell_type": "code",
   "execution_count": 15,
   "id": "77500be1",
   "metadata": {},
   "outputs": [
    {
     "data": {
      "text/plain": [
       "<AxesSubplot:ylabel='Density'>"
      ]
     },
     "execution_count": 15,
     "metadata": {},
     "output_type": "execute_result"
    },
    {
     "data": {
      "image/png": "[encoded data removed]",
      "text/plain": [
       "<Figure size 432x288 with 1 Axes>"
      ]
     },
     "metadata": {
      "filenames": {
       "image/png": "/home/runner/work/BrownFall21/BrownFall21/_build/jupyter_execute/notes/2021-09-22_28_1.png"
      },
      "needs_background": "light"
     },
     "output_type": "display_data"
    }
   ],
   "source": [
    "coffee_df['Flavor'].plot(kind='kde')"
   ]
  },
  {
   "cell_type": "markdown",
   "id": "08d01d8d",
   "metadata": {},
   "source": [
    "We can also plot two variables as a scatter plot, by specifying the `x`, `y` and\n",
    "`kind`"
   ]
  },
  {
   "cell_type": "code",
   "execution_count": 16,
   "id": "e17f4738",
   "metadata": {},
   "outputs": [
    {
     "data": {
      "text/plain": [
       "<AxesSubplot:xlabel='Flavor', ylabel='Balance'>"
      ]
     },
     "execution_count": 16,
     "metadata": {},
     "output_type": "execute_result"
    },
    {
     "data": {
      "image/png": "[encoded data removed]",
      "text/plain": [
       "<Figure size 432x288 with 1 Axes>"
      ]
     },
     "metadata": {
      "filenames": {
       "image/png": "/home/runner/work/BrownFall21/BrownFall21/_build/jupyter_execute/notes/2021-09-22_30_1.png"
      },
      "needs_background": "light"
     },
     "output_type": "display_data"
    }
   ],
   "source": [
    "coffee_df.plot(x='Flavor',y='Balance', kind='scatter')"
   ]
  },
  {
   "cell_type": "markdown",
   "id": "7f42c40a",
   "metadata": {},
   "source": [
    "Let's Make a histogram plot of the Balance variable"
   ]
  },
  {
   "cell_type": "code",
   "execution_count": 17,
   "id": "fc9cade3",
   "metadata": {},
   "outputs": [
    {
     "data": {
      "text/plain": [
       "<AxesSubplot:ylabel='Frequency'>"
      ]
     },
     "execution_count": 17,
     "metadata": {},
     "output_type": "execute_result"
    },
    {
     "data": {
      "image/png": "[encoded data removed]",
      "text/plain": [
       "<Figure size 432x288 with 1 Axes>"
      ]
     },
     "metadata": {
      "filenames": {
       "image/png": "/home/runner/work/BrownFall21/BrownFall21/_build/jupyter_execute/notes/2021-09-22_32_1.png"
      },
      "needs_background": "light"
     },
     "output_type": "display_data"
    }
   ],
   "source": [
    "coffee_df['Balance'].plot(kind='hist')"
   ]
  },
  {
   "cell_type": "markdown",
   "id": "117d79d5",
   "metadata": {},
   "source": [
    "```{admonition} Question from class\n",
    "Can we plot two histograms with `coffee_df['Balance']['Flavor'].plot(kind='hist')`\n",
    "```"
   ]
  },
  {
   "cell_type": "code",
   "execution_count": 18,
   "id": "3db5a878",
   "metadata": {},
   "outputs": [
    {
     "ename": "SyntaxError",
     "evalue": "invalid syntax (3818478052.py, line 1)",
     "output_type": "error",
     "traceback": [
      "\u001b[0;36m  File \u001b[0;32m\"/tmp/ipykernel_1718/3818478052.py\"\u001b[0;36m, line \u001b[0;32m1\u001b[0m\n\u001b[0;31m    :tags: [\"raises-exception\"]\u001b[0m\n\u001b[0m    ^\u001b[0m\n\u001b[0;31mSyntaxError\u001b[0m\u001b[0;31m:\u001b[0m invalid syntax\n"
     ]
    }
   ],
   "source": [
    ":tags: [\"raises-exception\"]\n",
    "\n",
    "coffee_df['Balance']['Flavor'].plot(kind='hist')"
   ]
  },
  {
   "cell_type": "markdown",
   "id": "2c5fcf60",
   "metadata": {},
   "source": [
    "Let's break down why that errors.  When we append things to the left, python\n",
    "interprets them by passing the output of one step to the input of the next one.  \n",
    "So `coffee_df['Balance'].plot(kind='hist')` first made a series, then plotted it.\n",
    "In the above, we again got the series, which works\n",
    "\n",
    "````{margin}\n",
    "```{note}\n",
    "Since I know these will be DataFrames, I'm appending the `head()` method to\n",
    "reduce the output for presenation.\n",
    "```\n",
    "````"
   ]
  },
  {
   "cell_type": "code",
   "execution_count": 19,
   "id": "e424ce27",
   "metadata": {},
   "outputs": [
    {
     "data": {
      "text/plain": [
       "0    8.42\n",
       "1    8.42\n",
       "Name: Balance, dtype: float64"
      ]
     },
     "execution_count": 19,
     "metadata": {},
     "output_type": "execute_result"
    }
   ],
   "source": [
    "coffee_df['Balance'].head(2)"
   ]
  },
  {
   "cell_type": "markdown",
   "id": "05013d02",
   "metadata": {},
   "source": [
    "But then, we tried to index it with 'Flavor', but we don't have that any more"
   ]
  },
  {
   "cell_type": "code",
   "execution_count": 20,
   "id": "9e98a692",
   "metadata": {},
   "outputs": [
    {
     "ename": "KeyError",
     "evalue": "'Flavor'",
     "output_type": "error",
     "traceback": [
      "\u001b[0;31m---------------------------------------------------------------------------\u001b[0m",
      "\u001b[0;31mKeyError\u001b[0m                                  Traceback (most recent call last)",
      "\u001b[0;32m/tmp/ipykernel_1718/1214282069.py\u001b[0m in \u001b[0;36m<module>\u001b[0;34m\u001b[0m\n\u001b[0;32m----> 1\u001b[0;31m \u001b[0mcoffee_df\u001b[0m\u001b[0;34m[\u001b[0m\u001b[0;34m'Balance'\u001b[0m\u001b[0;34m]\u001b[0m\u001b[0;34m[\u001b[0m\u001b[0;34m'Flavor'\u001b[0m\u001b[0;34m]\u001b[0m\u001b[0;34m\u001b[0m\u001b[0;34m\u001b[0m\u001b[0m\n\u001b[0m",
      "\u001b[0;32m/opt/hostedtoolcache/Python/3.7.12/x64/lib/python3.7/site-packages/pandas/core/series.py\u001b[0m in \u001b[0;36m__getitem__\u001b[0;34m(self, key)\u001b[0m\n\u001b[1;32m    940\u001b[0m \u001b[0;34m\u001b[0m\u001b[0m\n\u001b[1;32m    941\u001b[0m         \u001b[0;32melif\u001b[0m \u001b[0mkey_is_scalar\u001b[0m\u001b[0;34m:\u001b[0m\u001b[0;34m\u001b[0m\u001b[0;34m\u001b[0m\u001b[0m\n\u001b[0;32m--> 942\u001b[0;31m             \u001b[0;32mreturn\u001b[0m \u001b[0mself\u001b[0m\u001b[0;34m.\u001b[0m\u001b[0m_get_value\u001b[0m\u001b[0;34m(\u001b[0m\u001b[0mkey\u001b[0m\u001b[0;34m)\u001b[0m\u001b[0;34m\u001b[0m\u001b[0;34m\u001b[0m\u001b[0m\n\u001b[0m\u001b[1;32m    943\u001b[0m \u001b[0;34m\u001b[0m\u001b[0m\n\u001b[1;32m    944\u001b[0m         \u001b[0;32mif\u001b[0m \u001b[0mis_hashable\u001b[0m\u001b[0;34m(\u001b[0m\u001b[0mkey\u001b[0m\u001b[0;34m)\u001b[0m\u001b[0;34m:\u001b[0m\u001b[0;34m\u001b[0m\u001b[0;34m\u001b[0m\u001b[0m\n",
      "\u001b[0;32m/opt/hostedtoolcache/Python/3.7.12/x64/lib/python3.7/site-packages/pandas/core/series.py\u001b[0m in \u001b[0;36m_get_value\u001b[0;34m(self, label, takeable)\u001b[0m\n\u001b[1;32m   1049\u001b[0m \u001b[0;34m\u001b[0m\u001b[0m\n\u001b[1;32m   1050\u001b[0m         \u001b[0;31m# Similar to Index.get_value, but we do not fall back to positional\u001b[0m\u001b[0;34m\u001b[0m\u001b[0;34m\u001b[0m\u001b[0;34m\u001b[0m\u001b[0m\n\u001b[0;32m-> 1051\u001b[0;31m         \u001b[0mloc\u001b[0m \u001b[0;34m=\u001b[0m \u001b[0mself\u001b[0m\u001b[0;34m.\u001b[0m\u001b[0mindex\u001b[0m\u001b[0;34m.\u001b[0m\u001b[0mget_loc\u001b[0m\u001b[0;34m(\u001b[0m\u001b[0mlabel\u001b[0m\u001b[0;34m)\u001b[0m\u001b[0;34m\u001b[0m\u001b[0;34m\u001b[0m\u001b[0m\n\u001b[0m\u001b[1;32m   1052\u001b[0m         \u001b[0;32mreturn\u001b[0m \u001b[0mself\u001b[0m\u001b[0;34m.\u001b[0m\u001b[0mindex\u001b[0m\u001b[0;34m.\u001b[0m\u001b[0m_get_values_for_loc\u001b[0m\u001b[0;34m(\u001b[0m\u001b[0mself\u001b[0m\u001b[0;34m,\u001b[0m \u001b[0mloc\u001b[0m\u001b[0;34m,\u001b[0m \u001b[0mlabel\u001b[0m\u001b[0;34m)\u001b[0m\u001b[0;34m\u001b[0m\u001b[0;34m\u001b[0m\u001b[0m\n\u001b[1;32m   1053\u001b[0m \u001b[0;34m\u001b[0m\u001b[0m\n",
      "\u001b[0;32m/opt/hostedtoolcache/Python/3.7.12/x64/lib/python3.7/site-packages/pandas/core/indexes/range.py\u001b[0m in \u001b[0;36mget_loc\u001b[0;34m(self, key, method, tolerance)\u001b[0m\n\u001b[1;32m    386\u001b[0m                 \u001b[0;32mexcept\u001b[0m \u001b[0mValueError\u001b[0m \u001b[0;32mas\u001b[0m \u001b[0merr\u001b[0m\u001b[0;34m:\u001b[0m\u001b[0;34m\u001b[0m\u001b[0;34m\u001b[0m\u001b[0m\n\u001b[1;32m    387\u001b[0m                     \u001b[0;32mraise\u001b[0m \u001b[0mKeyError\u001b[0m\u001b[0;34m(\u001b[0m\u001b[0mkey\u001b[0m\u001b[0;34m)\u001b[0m \u001b[0;32mfrom\u001b[0m \u001b[0merr\u001b[0m\u001b[0;34m\u001b[0m\u001b[0;34m\u001b[0m\u001b[0m\n\u001b[0;32m--> 388\u001b[0;31m             \u001b[0;32mraise\u001b[0m \u001b[0mKeyError\u001b[0m\u001b[0;34m(\u001b[0m\u001b[0mkey\u001b[0m\u001b[0;34m)\u001b[0m\u001b[0;34m\u001b[0m\u001b[0;34m\u001b[0m\u001b[0m\n\u001b[0m\u001b[1;32m    389\u001b[0m         \u001b[0;32mreturn\u001b[0m \u001b[0msuper\u001b[0m\u001b[0;34m(\u001b[0m\u001b[0;34m)\u001b[0m\u001b[0;34m.\u001b[0m\u001b[0mget_loc\u001b[0m\u001b[0;34m(\u001b[0m\u001b[0mkey\u001b[0m\u001b[0;34m,\u001b[0m \u001b[0mmethod\u001b[0m\u001b[0;34m=\u001b[0m\u001b[0mmethod\u001b[0m\u001b[0;34m,\u001b[0m \u001b[0mtolerance\u001b[0m\u001b[0;34m=\u001b[0m\u001b[0mtolerance\u001b[0m\u001b[0;34m)\u001b[0m\u001b[0;34m\u001b[0m\u001b[0;34m\u001b[0m\u001b[0m\n\u001b[1;32m    390\u001b[0m \u001b[0;34m\u001b[0m\u001b[0m\n",
      "\u001b[0;31mKeyError\u001b[0m: 'Flavor'"
     ]
    }
   ],
   "source": [
    "coffee_df['Balance']['Flavor']"
   ]
  },
  {
   "cell_type": "markdown",
   "id": "3c4bd78c",
   "metadata": {},
   "source": [
    "So  we get a key error and we know this is the part of the line we have to change.\n",
    "\n",
    "\n",
    "We need to index into the DataFrame and pick two columns at once. When we index,\n",
    "we can use the name of a variable as a string or a list.  We can buil this list\n",
    "on the fly and python exectues fromt he inside out.  \n",
    "The outer `[ ]` index and the inner `[ ]` make alist"
   ]
  },
  {
   "cell_type": "code",
   "execution_count": 21,
   "id": "640546df",
   "metadata": {},
   "outputs": [
    {
     "data": {
      "text/html": [
       "<div>\n",
       "<style scoped>\n",
       "    .dataframe tbody tr th:only-of-type {\n",
       "        vertical-align: middle;\n",
       "    }\n",
       "\n",
       "    .dataframe tbody tr th {\n",
       "        vertical-align: top;\n",
       "    }\n",
       "\n",
       "    .dataframe thead th {\n",
       "        text-align: right;\n",
       "    }\n",
       "</style>\n",
       "<table border=\"1\" class=\"dataframe\">\n",
       "  <thead>\n",
       "    <tr style=\"text-align: right;\">\n",
       "      <th></th>\n",
       "      <th>Balance</th>\n",
       "      <th>Flavor</th>\n",
       "    </tr>\n",
       "  </thead>\n",
       "  <tbody>\n",
       "    <tr>\n",
       "      <th>0</th>\n",
       "      <td>8.42</td>\n",
       "      <td>8.83</td>\n",
       "    </tr>\n",
       "    <tr>\n",
       "      <th>1</th>\n",
       "      <td>8.42</td>\n",
       "      <td>8.67</td>\n",
       "    </tr>\n",
       "  </tbody>\n",
       "</table>\n",
       "</div>"
      ],
      "text/plain": [
       "   Balance  Flavor\n",
       "0     8.42    8.83\n",
       "1     8.42    8.67"
      ]
     },
     "execution_count": 21,
     "metadata": {},
     "output_type": "execute_result"
    }
   ],
   "source": [
    "coffee_df[['Balance','Flavor']].head(2)"
   ]
  },
  {
   "cell_type": "markdown",
   "id": "10d569e1",
   "metadata": {},
   "source": [
    "we could also build the list first, then index for readability"
   ]
  },
  {
   "cell_type": "code",
   "execution_count": 22,
   "id": "47918b82",
   "metadata": {},
   "outputs": [
    {
     "ename": "AttributeError",
     "evalue": "'list' object has no attribute 'head'",
     "output_type": "error",
     "traceback": [
      "\u001b[0;31m---------------------------------------------------------------------------\u001b[0m",
      "\u001b[0;31mAttributeError\u001b[0m                            Traceback (most recent call last)",
      "\u001b[0;32m/tmp/ipykernel_1718/2943951791.py\u001b[0m in \u001b[0;36m<module>\u001b[0;34m\u001b[0m\n\u001b[0;32m----> 1\u001b[0;31m \u001b[0mhist_vars\u001b[0m \u001b[0;34m=\u001b[0m \u001b[0;34m[\u001b[0m\u001b[0;34m'Balance'\u001b[0m\u001b[0;34m,\u001b[0m\u001b[0;34m'Flavor'\u001b[0m\u001b[0;34m]\u001b[0m\u001b[0;34m.\u001b[0m\u001b[0mhead\u001b[0m\u001b[0;34m(\u001b[0m\u001b[0;36m2\u001b[0m\u001b[0;34m)\u001b[0m\u001b[0;34m\u001b[0m\u001b[0;34m\u001b[0m\u001b[0m\n\u001b[0m\u001b[1;32m      2\u001b[0m \u001b[0mcoffee_df\u001b[0m\u001b[0;34m[\u001b[0m\u001b[0mhist_vars\u001b[0m\u001b[0;34m]\u001b[0m\u001b[0;34m\u001b[0m\u001b[0;34m\u001b[0m\u001b[0m\n",
      "\u001b[0;31mAttributeError\u001b[0m: 'list' object has no attribute 'head'"
     ]
    }
   ],
   "source": [
    "hist_vars = ['Balance','Flavor'].head(2)\n",
    "coffee_df[hist_vars]"
   ]
  },
  {
   "cell_type": "markdown",
   "id": "e1c21aaa",
   "metadata": {},
   "source": [
    "This gives us a data frame, which we can plot."
   ]
  },
  {
   "cell_type": "code",
   "execution_count": 23,
   "id": "50ca786f",
   "metadata": {},
   "outputs": [
    {
     "data": {
      "text/plain": [
       "<AxesSubplot:ylabel='Frequency'>"
      ]
     },
     "execution_count": 23,
     "metadata": {},
     "output_type": "execute_result"
    },
    {
     "data": {
      "image/png": "[encoded data removed]",
      "text/plain": [
       "<Figure size 432x288 with 1 Axes>"
      ]
     },
     "metadata": {
      "filenames": {
       "image/png": "/home/runner/work/BrownFall21/BrownFall21/_build/jupyter_execute/notes/2021-09-22_44_1.png"
      },
      "needs_background": "light"
     },
     "output_type": "display_data"
    }
   ],
   "source": [
    "coffee_df[['Balance','Flavor']].plot(kind='hist')"
   ]
  },
  {
   "cell_type": "markdown",
   "id": "942875b2",
   "metadata": {},
   "source": [
    "We'll see ways to improve this on Friday.\n",
    "\n",
    "## ## Plotting in Python\n",
    "\n",
    "- [matplotlib](https://matplotlib.org/): low level plotting tools\n",
    "- [seaborn](https://seaborn.pydata.org/index.html): high level plotting with opinionated defaults\n",
    "- [ggplot](https://yhat.github.io/ggpy/): plotting based on the ggplot library in R.\n",
    "\n",
    "\n",
    "Pandas and seaborn use matplotlib under the hood.\n",
    "\n",
    "Seaborn and ggplot both assume the data is set up as a DataFrame.\n",
    "Getting started with seaborn is the simplest, so we'll use that.\n",
    "\n",
    "We can get that basic plot back."
   ]
  },
  {
   "cell_type": "code",
   "execution_count": 24,
   "id": "cd125665",
   "metadata": {},
   "outputs": [
    {
     "data": {
      "text/plain": [
       "<AxesSubplot:xlabel='Flavor', ylabel='Balance'>"
      ]
     },
     "execution_count": 24,
     "metadata": {},
     "output_type": "execute_result"
    },
    {
     "data": {
      "image/png": "[encoded data removed]",
      "text/plain": [
       "<Figure size 432x288 with 1 Axes>"
      ]
     },
     "metadata": {
      "filenames": {
       "image/png": "/home/runner/work/BrownFall21/BrownFall21/_build/jupyter_execute/notes/2021-09-22_46_1.png"
      },
      "needs_background": "light"
     },
     "output_type": "display_data"
    }
   ],
   "source": [
    "sns.scatterplot(data=coffee_df,x='Flavor',y='Balance')"
   ]
  },
  {
   "cell_type": "markdown",
   "id": "7c4cbd47",
   "metadata": {},
   "source": [
    "But now we have more power to investigate more relationships in the data."
   ]
  },
  {
   "cell_type": "code",
   "execution_count": 25,
   "id": "7e1b5f36",
   "metadata": {},
   "outputs": [
    {
     "data": {
      "text/plain": [
       "<AxesSubplot:xlabel='Flavor', ylabel='Balance'>"
      ]
     },
     "execution_count": 25,
     "metadata": {},
     "output_type": "execute_result"
    },
    {
     "data": {
      "image/png": "[encoded data removed]",
      "text/plain": [
       "<Figure size 432x288 with 1 Axes>"
      ]
     },
     "metadata": {
      "filenames": {
       "image/png": "/home/runner/work/BrownFall21/BrownFall21/_build/jupyter_execute/notes/2021-09-22_48_1.png"
      },
      "needs_background": "light"
     },
     "output_type": "display_data"
    }
   ],
   "source": [
    "sns.scatterplot(data=coffee_df,x='Flavor',y='Balance',hue='Color')"
   ]
  },
  {
   "cell_type": "markdown",
   "id": "91436a7e",
   "metadata": {},
   "source": [
    " From this we can see that the color doesn't appear to be related to the flavor\n",
    " or balance scores, but that the flavor and balacne are related.\n",
    "\n",
    "We can also break this apart. `lmplot` is a higher level plotting function so\n",
    "it allows us to create grids of plots and by default also includes a regression\n",
    "line. We'll turn that off for now, with `,fit_reg=False`."
   ]
  },
  {
   "cell_type": "code",
   "execution_count": 26,
   "id": "5140a376",
   "metadata": {},
   "outputs": [
    {
     "data": {
      "text/plain": [
       "<seaborn.axisgrid.FacetGrid at 0x7f670d61f1d0>"
      ]
     },
     "execution_count": 26,
     "metadata": {},
     "output_type": "execute_result"
    },
    {
     "data": {
      "image/png": "[encoded data removed]",
      "text/plain": [
       "<Figure size 1440x360 with 4 Axes>"
      ]
     },
     "metadata": {
      "filenames": {
       "image/png": "/home/runner/work/BrownFall21/BrownFall21/_build/jupyter_execute/notes/2021-09-22_50_1.png"
      },
      "needs_background": "light"
     },
     "output_type": "display_data"
    }
   ],
   "source": [
    "sns.lmplot(data=coffee_df,x='Flavor',y='Balance',hue='Color',\n",
    "               col='Color',fit_reg=False)"
   ]
  },
  {
   "cell_type": "markdown",
   "id": "dbf09359",
   "metadata": {},
   "source": [
    "`col` stands for column.  We can also use `row`"
   ]
  },
  {
   "cell_type": "code",
   "execution_count": 27,
   "id": "1b810e1d",
   "metadata": {},
   "outputs": [
    {
     "data": {
      "text/plain": [
       "<seaborn.axisgrid.FacetGrid at 0x7f670d22c090>"
      ]
     },
     "execution_count": 27,
     "metadata": {},
     "output_type": "execute_result"
    },
    {
     "data": {
      "image/png": "[encoded data removed]",
      "text/plain": [
       "<Figure size 360x1440 with 4 Axes>"
      ]
     },
     "metadata": {
      "filenames": {
       "image/png": "/home/runner/work/BrownFall21/BrownFall21/_build/jupyter_execute/notes/2021-09-22_52_1.png"
      },
      "needs_background": "light"
     },
     "output_type": "display_data"
    }
   ],
   "source": [
    "sns.lmplot(data=coffee_df,x='Flavor',y='Balance',hue='Color',\n",
    "               row='Color')"
   ]
  },
  {
   "cell_type": "markdown",
   "id": "f126a777",
   "metadata": {},
   "source": [
    "We can also use both together:"
   ]
  },
  {
   "cell_type": "code",
   "execution_count": 28,
   "id": "fcd49ccd",
   "metadata": {},
   "outputs": [
    {
     "ename": "KeyboardInterrupt",
     "evalue": "",
     "output_type": "error",
     "traceback": [
      "\u001b[0;31m---------------------------------------------------------------------------\u001b[0m",
      "\u001b[0;31mKeyboardInterrupt\u001b[0m                         Traceback (most recent call last)",
      "\u001b[0;32m/tmp/ipykernel_1718/4097410330.py\u001b[0m in \u001b[0;36m<module>\u001b[0;34m\u001b[0m\n\u001b[1;32m      1\u001b[0m sns.lmplot(data=coffee_df,x='Flavor',y='Balance',hue='Color',\n\u001b[0;32m----> 2\u001b[0;31m                row='Color',col='Country.of.Origin')\n\u001b[0m",
      "\u001b[0;32m/opt/hostedtoolcache/Python/3.7.12/x64/lib/python3.7/site-packages/seaborn/_decorators.py\u001b[0m in \u001b[0;36minner_f\u001b[0;34m(*args, **kwargs)\u001b[0m\n\u001b[1;32m     44\u001b[0m             )\n\u001b[1;32m     45\u001b[0m         \u001b[0mkwargs\u001b[0m\u001b[0;34m.\u001b[0m\u001b[0mupdate\u001b[0m\u001b[0;34m(\u001b[0m\u001b[0;34m{\u001b[0m\u001b[0mk\u001b[0m\u001b[0;34m:\u001b[0m \u001b[0marg\u001b[0m \u001b[0;32mfor\u001b[0m \u001b[0mk\u001b[0m\u001b[0;34m,\u001b[0m \u001b[0marg\u001b[0m \u001b[0;32min\u001b[0m \u001b[0mzip\u001b[0m\u001b[0;34m(\u001b[0m\u001b[0msig\u001b[0m\u001b[0;34m.\u001b[0m\u001b[0mparameters\u001b[0m\u001b[0;34m,\u001b[0m \u001b[0margs\u001b[0m\u001b[0;34m)\u001b[0m\u001b[0;34m}\u001b[0m\u001b[0;34m)\u001b[0m\u001b[0;34m\u001b[0m\u001b[0;34m\u001b[0m\u001b[0m\n\u001b[0;32m---> 46\u001b[0;31m         \u001b[0;32mreturn\u001b[0m \u001b[0mf\u001b[0m\u001b[0;34m(\u001b[0m\u001b[0;34m**\u001b[0m\u001b[0mkwargs\u001b[0m\u001b[0;34m)\u001b[0m\u001b[0;34m\u001b[0m\u001b[0;34m\u001b[0m\u001b[0m\n\u001b[0m\u001b[1;32m     47\u001b[0m     \u001b[0;32mreturn\u001b[0m \u001b[0minner_f\u001b[0m\u001b[0;34m\u001b[0m\u001b[0;34m\u001b[0m\u001b[0m\n\u001b[1;32m     48\u001b[0m \u001b[0;34m\u001b[0m\u001b[0m\n",
      "\u001b[0;32m/opt/hostedtoolcache/Python/3.7.12/x64/lib/python3.7/site-packages/seaborn/regression.py\u001b[0m in \u001b[0;36mlmplot\u001b[0;34m(x, y, data, hue, col, row, palette, col_wrap, height, aspect, markers, sharex, sharey, hue_order, col_order, row_order, legend, legend_out, x_estimator, x_bins, x_ci, scatter, fit_reg, ci, n_boot, units, seed, order, logistic, lowess, robust, logx, x_partial, y_partial, truncate, x_jitter, y_jitter, scatter_kws, line_kws, facet_kws, size)\u001b[0m\n\u001b[1;32m    643\u001b[0m         \u001b[0mscatter_kws\u001b[0m\u001b[0;34m=\u001b[0m\u001b[0mscatter_kws\u001b[0m\u001b[0;34m,\u001b[0m \u001b[0mline_kws\u001b[0m\u001b[0;34m=\u001b[0m\u001b[0mline_kws\u001b[0m\u001b[0;34m,\u001b[0m\u001b[0;34m\u001b[0m\u001b[0;34m\u001b[0m\u001b[0m\n\u001b[1;32m    644\u001b[0m     )\n\u001b[0;32m--> 645\u001b[0;31m     \u001b[0mfacets\u001b[0m\u001b[0;34m.\u001b[0m\u001b[0mmap_dataframe\u001b[0m\u001b[0;34m(\u001b[0m\u001b[0mregplot\u001b[0m\u001b[0;34m,\u001b[0m \u001b[0mx\u001b[0m\u001b[0;34m=\u001b[0m\u001b[0mx\u001b[0m\u001b[0;34m,\u001b[0m \u001b[0my\u001b[0m\u001b[0;34m=\u001b[0m\u001b[0my\u001b[0m\u001b[0;34m,\u001b[0m \u001b[0;34m**\u001b[0m\u001b[0mregplot_kws\u001b[0m\u001b[0;34m)\u001b[0m\u001b[0;34m\u001b[0m\u001b[0;34m\u001b[0m\u001b[0m\n\u001b[0m\u001b[1;32m    646\u001b[0m     \u001b[0mfacets\u001b[0m\u001b[0;34m.\u001b[0m\u001b[0mset_axis_labels\u001b[0m\u001b[0;34m(\u001b[0m\u001b[0mx\u001b[0m\u001b[0;34m,\u001b[0m \u001b[0my\u001b[0m\u001b[0;34m)\u001b[0m\u001b[0;34m\u001b[0m\u001b[0;34m\u001b[0m\u001b[0m\n\u001b[1;32m    647\u001b[0m \u001b[0;34m\u001b[0m\u001b[0m\n",
      "\u001b[0;32m/opt/hostedtoolcache/Python/3.7.12/x64/lib/python3.7/site-packages/seaborn/axisgrid.py\u001b[0m in \u001b[0;36mmap_dataframe\u001b[0;34m(self, func, *args, **kwargs)\u001b[0m\n\u001b[1;32m    775\u001b[0m \u001b[0;34m\u001b[0m\u001b[0m\n\u001b[1;32m    776\u001b[0m             \u001b[0;31m# Draw the plot\u001b[0m\u001b[0;34m\u001b[0m\u001b[0;34m\u001b[0m\u001b[0;34m\u001b[0m\u001b[0m\n\u001b[0;32m--> 777\u001b[0;31m             \u001b[0mself\u001b[0m\u001b[0;34m.\u001b[0m\u001b[0m_facet_plot\u001b[0m\u001b[0;34m(\u001b[0m\u001b[0mfunc\u001b[0m\u001b[0;34m,\u001b[0m \u001b[0max\u001b[0m\u001b[0;34m,\u001b[0m \u001b[0margs\u001b[0m\u001b[0;34m,\u001b[0m \u001b[0mkwargs\u001b[0m\u001b[0;34m)\u001b[0m\u001b[0;34m\u001b[0m\u001b[0;34m\u001b[0m\u001b[0m\n\u001b[0m\u001b[1;32m    778\u001b[0m \u001b[0;34m\u001b[0m\u001b[0m\n\u001b[1;32m    779\u001b[0m         \u001b[0;31m# For axis labels, prefer to use positional args for backcompat\u001b[0m\u001b[0;34m\u001b[0m\u001b[0;34m\u001b[0m\u001b[0;34m\u001b[0m\u001b[0m\n",
      "\u001b[0;32m/opt/hostedtoolcache/Python/3.7.12/x64/lib/python3.7/site-packages/seaborn/axisgrid.py\u001b[0m in \u001b[0;36m_facet_plot\u001b[0;34m(self, func, ax, plot_args, plot_kwargs)\u001b[0m\n\u001b[1;32m    804\u001b[0m             \u001b[0mplot_args\u001b[0m \u001b[0;34m=\u001b[0m \u001b[0;34m[\u001b[0m\u001b[0;34m]\u001b[0m\u001b[0;34m\u001b[0m\u001b[0;34m\u001b[0m\u001b[0m\n\u001b[1;32m    805\u001b[0m             \u001b[0mplot_kwargs\u001b[0m\u001b[0;34m[\u001b[0m\u001b[0;34m\"ax\"\u001b[0m\u001b[0;34m]\u001b[0m \u001b[0;34m=\u001b[0m \u001b[0max\u001b[0m\u001b[0;34m\u001b[0m\u001b[0;34m\u001b[0m\u001b[0m\n\u001b[0;32m--> 806\u001b[0;31m         \u001b[0mfunc\u001b[0m\u001b[0;34m(\u001b[0m\u001b[0;34m*\u001b[0m\u001b[0mplot_args\u001b[0m\u001b[0;34m,\u001b[0m \u001b[0;34m**\u001b[0m\u001b[0mplot_kwargs\u001b[0m\u001b[0;34m)\u001b[0m\u001b[0;34m\u001b[0m\u001b[0;34m\u001b[0m\u001b[0m\n\u001b[0m\u001b[1;32m    807\u001b[0m \u001b[0;34m\u001b[0m\u001b[0m\n\u001b[1;32m    808\u001b[0m         \u001b[0;31m# Sort out the supporting information\u001b[0m\u001b[0;34m\u001b[0m\u001b[0;34m\u001b[0m\u001b[0;34m\u001b[0m\u001b[0m\n",
      "\u001b[0;32m/opt/hostedtoolcache/Python/3.7.12/x64/lib/python3.7/site-packages/seaborn/_decorators.py\u001b[0m in \u001b[0;36minner_f\u001b[0;34m(*args, **kwargs)\u001b[0m\n\u001b[1;32m     44\u001b[0m             )\n\u001b[1;32m     45\u001b[0m         \u001b[0mkwargs\u001b[0m\u001b[0;34m.\u001b[0m\u001b[0mupdate\u001b[0m\u001b[0;34m(\u001b[0m\u001b[0;34m{\u001b[0m\u001b[0mk\u001b[0m\u001b[0;34m:\u001b[0m \u001b[0marg\u001b[0m \u001b[0;32mfor\u001b[0m \u001b[0mk\u001b[0m\u001b[0;34m,\u001b[0m \u001b[0marg\u001b[0m \u001b[0;32min\u001b[0m \u001b[0mzip\u001b[0m\u001b[0;34m(\u001b[0m\u001b[0msig\u001b[0m\u001b[0;34m.\u001b[0m\u001b[0mparameters\u001b[0m\u001b[0;34m,\u001b[0m \u001b[0margs\u001b[0m\u001b[0;34m)\u001b[0m\u001b[0;34m}\u001b[0m\u001b[0;34m)\u001b[0m\u001b[0;34m\u001b[0m\u001b[0;34m\u001b[0m\u001b[0m\n\u001b[0;32m---> 46\u001b[0;31m         \u001b[0;32mreturn\u001b[0m \u001b[0mf\u001b[0m\u001b[0;34m(\u001b[0m\u001b[0;34m**\u001b[0m\u001b[0mkwargs\u001b[0m\u001b[0;34m)\u001b[0m\u001b[0;34m\u001b[0m\u001b[0;34m\u001b[0m\u001b[0m\n\u001b[0m\u001b[1;32m     47\u001b[0m     \u001b[0;32mreturn\u001b[0m \u001b[0minner_f\u001b[0m\u001b[0;34m\u001b[0m\u001b[0;34m\u001b[0m\u001b[0m\n\u001b[1;32m     48\u001b[0m \u001b[0;34m\u001b[0m\u001b[0m\n",
      "\u001b[0;32m/opt/hostedtoolcache/Python/3.7.12/x64/lib/python3.7/site-packages/seaborn/regression.py\u001b[0m in \u001b[0;36mregplot\u001b[0;34m(x, y, data, x_estimator, x_bins, x_ci, scatter, fit_reg, ci, n_boot, units, seed, order, logistic, lowess, robust, logx, x_partial, y_partial, truncate, dropna, x_jitter, y_jitter, label, color, marker, scatter_kws, line_kws, ax)\u001b[0m\n\u001b[1;32m    861\u001b[0m     \u001b[0mscatter_kws\u001b[0m\u001b[0;34m[\u001b[0m\u001b[0;34m\"marker\"\u001b[0m\u001b[0;34m]\u001b[0m \u001b[0;34m=\u001b[0m \u001b[0mmarker\u001b[0m\u001b[0;34m\u001b[0m\u001b[0;34m\u001b[0m\u001b[0m\n\u001b[1;32m    862\u001b[0m     \u001b[0mline_kws\u001b[0m \u001b[0;34m=\u001b[0m \u001b[0;34m{\u001b[0m\u001b[0;34m}\u001b[0m \u001b[0;32mif\u001b[0m \u001b[0mline_kws\u001b[0m \u001b[0;32mis\u001b[0m \u001b[0;32mNone\u001b[0m \u001b[0;32melse\u001b[0m \u001b[0mcopy\u001b[0m\u001b[0;34m.\u001b[0m\u001b[0mcopy\u001b[0m\u001b[0;34m(\u001b[0m\u001b[0mline_kws\u001b[0m\u001b[0;34m)\u001b[0m\u001b[0;34m\u001b[0m\u001b[0;34m\u001b[0m\u001b[0m\n\u001b[0;32m--> 863\u001b[0;31m     \u001b[0mplotter\u001b[0m\u001b[0;34m.\u001b[0m\u001b[0mplot\u001b[0m\u001b[0;34m(\u001b[0m\u001b[0max\u001b[0m\u001b[0;34m,\u001b[0m \u001b[0mscatter_kws\u001b[0m\u001b[0;34m,\u001b[0m \u001b[0mline_kws\u001b[0m\u001b[0;34m)\u001b[0m\u001b[0;34m\u001b[0m\u001b[0;34m\u001b[0m\u001b[0m\n\u001b[0m\u001b[1;32m    864\u001b[0m     \u001b[0;32mreturn\u001b[0m \u001b[0max\u001b[0m\u001b[0;34m\u001b[0m\u001b[0;34m\u001b[0m\u001b[0m\n\u001b[1;32m    865\u001b[0m \u001b[0;34m\u001b[0m\u001b[0m\n",
      "\u001b[0;32m/opt/hostedtoolcache/Python/3.7.12/x64/lib/python3.7/site-packages/seaborn/regression.py\u001b[0m in \u001b[0;36mplot\u001b[0;34m(self, ax, scatter_kws, line_kws)\u001b[0m\n\u001b[1;32m    365\u001b[0m         \u001b[0;31m# Draw the constituent plots\u001b[0m\u001b[0;34m\u001b[0m\u001b[0;34m\u001b[0m\u001b[0;34m\u001b[0m\u001b[0m\n\u001b[1;32m    366\u001b[0m         \u001b[0;32mif\u001b[0m \u001b[0mself\u001b[0m\u001b[0;34m.\u001b[0m\u001b[0mscatter\u001b[0m\u001b[0;34m:\u001b[0m\u001b[0;34m\u001b[0m\u001b[0;34m\u001b[0m\u001b[0m\n\u001b[0;32m--> 367\u001b[0;31m             \u001b[0mself\u001b[0m\u001b[0;34m.\u001b[0m\u001b[0mscatterplot\u001b[0m\u001b[0;34m(\u001b[0m\u001b[0max\u001b[0m\u001b[0;34m,\u001b[0m \u001b[0mscatter_kws\u001b[0m\u001b[0;34m)\u001b[0m\u001b[0;34m\u001b[0m\u001b[0;34m\u001b[0m\u001b[0m\n\u001b[0m\u001b[1;32m    368\u001b[0m \u001b[0;34m\u001b[0m\u001b[0m\n\u001b[1;32m    369\u001b[0m         \u001b[0;32mif\u001b[0m \u001b[0mself\u001b[0m\u001b[0;34m.\u001b[0m\u001b[0mfit_reg\u001b[0m\u001b[0;34m:\u001b[0m\u001b[0;34m\u001b[0m\u001b[0;34m\u001b[0m\u001b[0m\n",
      "\u001b[0;32m/opt/hostedtoolcache/Python/3.7.12/x64/lib/python3.7/site-packages/seaborn/regression.py\u001b[0m in \u001b[0;36mscatterplot\u001b[0;34m(self, ax, kws)\u001b[0m\n\u001b[1;32m    395\u001b[0m \u001b[0;34m\u001b[0m\u001b[0m\n\u001b[1;32m    396\u001b[0m             \u001b[0mx\u001b[0m\u001b[0;34m,\u001b[0m \u001b[0my\u001b[0m \u001b[0;34m=\u001b[0m \u001b[0mself\u001b[0m\u001b[0;34m.\u001b[0m\u001b[0mscatter_data\u001b[0m\u001b[0;34m\u001b[0m\u001b[0;34m\u001b[0m\u001b[0m\n\u001b[0;32m--> 397\u001b[0;31m             \u001b[0max\u001b[0m\u001b[0;34m.\u001b[0m\u001b[0mscatter\u001b[0m\u001b[0;34m(\u001b[0m\u001b[0mx\u001b[0m\u001b[0;34m,\u001b[0m \u001b[0my\u001b[0m\u001b[0;34m,\u001b[0m \u001b[0;34m**\u001b[0m\u001b[0mkws\u001b[0m\u001b[0;34m)\u001b[0m\u001b[0;34m\u001b[0m\u001b[0;34m\u001b[0m\u001b[0m\n\u001b[0m\u001b[1;32m    398\u001b[0m         \u001b[0;32melse\u001b[0m\u001b[0;34m:\u001b[0m\u001b[0;34m\u001b[0m\u001b[0;34m\u001b[0m\u001b[0m\n\u001b[1;32m    399\u001b[0m             \u001b[0;31m# TODO abstraction\u001b[0m\u001b[0;34m\u001b[0m\u001b[0;34m\u001b[0m\u001b[0;34m\u001b[0m\u001b[0m\n",
      "\u001b[0;32m/opt/hostedtoolcache/Python/3.7.12/x64/lib/python3.7/site-packages/matplotlib/__init__.py\u001b[0m in \u001b[0;36minner\u001b[0;34m(ax, data, *args, **kwargs)\u001b[0m\n\u001b[1;32m   1359\u001b[0m     \u001b[0;32mdef\u001b[0m \u001b[0minner\u001b[0m\u001b[0;34m(\u001b[0m\u001b[0max\u001b[0m\u001b[0;34m,\u001b[0m \u001b[0;34m*\u001b[0m\u001b[0margs\u001b[0m\u001b[0;34m,\u001b[0m \u001b[0mdata\u001b[0m\u001b[0;34m=\u001b[0m\u001b[0;32mNone\u001b[0m\u001b[0;34m,\u001b[0m \u001b[0;34m**\u001b[0m\u001b[0mkwargs\u001b[0m\u001b[0;34m)\u001b[0m\u001b[0;34m:\u001b[0m\u001b[0;34m\u001b[0m\u001b[0;34m\u001b[0m\u001b[0m\n\u001b[1;32m   1360\u001b[0m         \u001b[0;32mif\u001b[0m \u001b[0mdata\u001b[0m \u001b[0;32mis\u001b[0m \u001b[0;32mNone\u001b[0m\u001b[0;34m:\u001b[0m\u001b[0;34m\u001b[0m\u001b[0;34m\u001b[0m\u001b[0m\n\u001b[0;32m-> 1361\u001b[0;31m             \u001b[0;32mreturn\u001b[0m \u001b[0mfunc\u001b[0m\u001b[0;34m(\u001b[0m\u001b[0max\u001b[0m\u001b[0;34m,\u001b[0m \u001b[0;34m*\u001b[0m\u001b[0mmap\u001b[0m\u001b[0;34m(\u001b[0m\u001b[0msanitize_sequence\u001b[0m\u001b[0;34m,\u001b[0m \u001b[0margs\u001b[0m\u001b[0;34m)\u001b[0m\u001b[0;34m,\u001b[0m \u001b[0;34m**\u001b[0m\u001b[0mkwargs\u001b[0m\u001b[0;34m)\u001b[0m\u001b[0;34m\u001b[0m\u001b[0;34m\u001b[0m\u001b[0m\n\u001b[0m\u001b[1;32m   1362\u001b[0m \u001b[0;34m\u001b[0m\u001b[0m\n\u001b[1;32m   1363\u001b[0m         \u001b[0mbound\u001b[0m \u001b[0;34m=\u001b[0m \u001b[0mnew_sig\u001b[0m\u001b[0;34m.\u001b[0m\u001b[0mbind\u001b[0m\u001b[0;34m(\u001b[0m\u001b[0max\u001b[0m\u001b[0;34m,\u001b[0m \u001b[0;34m*\u001b[0m\u001b[0margs\u001b[0m\u001b[0;34m,\u001b[0m \u001b[0;34m**\u001b[0m\u001b[0mkwargs\u001b[0m\u001b[0;34m)\u001b[0m\u001b[0;34m\u001b[0m\u001b[0;34m\u001b[0m\u001b[0m\n",
      "\u001b[0;32m/opt/hostedtoolcache/Python/3.7.12/x64/lib/python3.7/site-packages/matplotlib/axes/_axes.py\u001b[0m in \u001b[0;36mscatter\u001b[0;34m(self, x, y, s, c, marker, cmap, norm, vmin, vmax, alpha, linewidths, edgecolors, plotnonfinite, **kwargs)\u001b[0m\n\u001b[1;32m   4614\u001b[0m                 \u001b[0mself\u001b[0m\u001b[0;34m.\u001b[0m\u001b[0mset_ymargin\u001b[0m\u001b[0;34m(\u001b[0m\u001b[0;36m0.05\u001b[0m\u001b[0;34m)\u001b[0m\u001b[0;34m\u001b[0m\u001b[0;34m\u001b[0m\u001b[0m\n\u001b[1;32m   4615\u001b[0m \u001b[0;34m\u001b[0m\u001b[0m\n\u001b[0;32m-> 4616\u001b[0;31m         \u001b[0mself\u001b[0m\u001b[0;34m.\u001b[0m\u001b[0madd_collection\u001b[0m\u001b[0;34m(\u001b[0m\u001b[0mcollection\u001b[0m\u001b[0;34m)\u001b[0m\u001b[0;34m\u001b[0m\u001b[0;34m\u001b[0m\u001b[0m\n\u001b[0m\u001b[1;32m   4617\u001b[0m         \u001b[0mself\u001b[0m\u001b[0;34m.\u001b[0m\u001b[0m_request_autoscale_view\u001b[0m\u001b[0;34m(\u001b[0m\u001b[0;34m)\u001b[0m\u001b[0;34m\u001b[0m\u001b[0;34m\u001b[0m\u001b[0m\n\u001b[1;32m   4618\u001b[0m \u001b[0;34m\u001b[0m\u001b[0m\n",
      "\u001b[0;32m/opt/hostedtoolcache/Python/3.7.12/x64/lib/python3.7/site-packages/matplotlib/axes/_base.py\u001b[0m in \u001b[0;36madd_collection\u001b[0;34m(self, collection, autolim)\u001b[0m\n\u001b[1;32m   2060\u001b[0m             \u001b[0;31m# Make sure viewLim is not stale (mostly to match\u001b[0m\u001b[0;34m\u001b[0m\u001b[0;34m\u001b[0m\u001b[0;34m\u001b[0m\u001b[0m\n\u001b[1;32m   2061\u001b[0m             \u001b[0;31m# pre-lazy-autoscale behavior, which is not really better).\u001b[0m\u001b[0;34m\u001b[0m\u001b[0;34m\u001b[0m\u001b[0;34m\u001b[0m\u001b[0m\n\u001b[0;32m-> 2062\u001b[0;31m             \u001b[0mself\u001b[0m\u001b[0;34m.\u001b[0m\u001b[0m_unstale_viewLim\u001b[0m\u001b[0;34m(\u001b[0m\u001b[0;34m)\u001b[0m\u001b[0;34m\u001b[0m\u001b[0;34m\u001b[0m\u001b[0m\n\u001b[0m\u001b[1;32m   2063\u001b[0m             \u001b[0mdatalim\u001b[0m \u001b[0;34m=\u001b[0m \u001b[0mcollection\u001b[0m\u001b[0;34m.\u001b[0m\u001b[0mget_datalim\u001b[0m\u001b[0;34m(\u001b[0m\u001b[0mself\u001b[0m\u001b[0;34m.\u001b[0m\u001b[0mtransData\u001b[0m\u001b[0;34m)\u001b[0m\u001b[0;34m\u001b[0m\u001b[0;34m\u001b[0m\u001b[0m\n\u001b[1;32m   2064\u001b[0m             \u001b[0mpoints\u001b[0m \u001b[0;34m=\u001b[0m \u001b[0mdatalim\u001b[0m\u001b[0;34m.\u001b[0m\u001b[0mget_points\u001b[0m\u001b[0;34m(\u001b[0m\u001b[0;34m)\u001b[0m\u001b[0;34m\u001b[0m\u001b[0;34m\u001b[0m\u001b[0m\n",
      "\u001b[0;32m/opt/hostedtoolcache/Python/3.7.12/x64/lib/python3.7/site-packages/matplotlib/axes/_base.py\u001b[0m in \u001b[0;36m_unstale_viewLim\u001b[0;34m(self)\u001b[0m\n\u001b[1;32m    776\u001b[0m             \u001b[0;32mfor\u001b[0m \u001b[0max\u001b[0m \u001b[0;32min\u001b[0m \u001b[0mself\u001b[0m\u001b[0;34m.\u001b[0m\u001b[0m_shared_y_axes\u001b[0m\u001b[0;34m.\u001b[0m\u001b[0mget_siblings\u001b[0m\u001b[0;34m(\u001b[0m\u001b[0mself\u001b[0m\u001b[0;34m)\u001b[0m\u001b[0;34m:\u001b[0m\u001b[0;34m\u001b[0m\u001b[0;34m\u001b[0m\u001b[0m\n\u001b[1;32m    777\u001b[0m                 \u001b[0max\u001b[0m\u001b[0;34m.\u001b[0m\u001b[0m_stale_viewlim_y\u001b[0m \u001b[0;34m=\u001b[0m \u001b[0;32mFalse\u001b[0m\u001b[0;34m\u001b[0m\u001b[0;34m\u001b[0m\u001b[0m\n\u001b[0;32m--> 778\u001b[0;31m             \u001b[0mself\u001b[0m\u001b[0;34m.\u001b[0m\u001b[0mautoscale_view\u001b[0m\u001b[0;34m(\u001b[0m\u001b[0mscalex\u001b[0m\u001b[0;34m=\u001b[0m\u001b[0mscalex\u001b[0m\u001b[0;34m,\u001b[0m \u001b[0mscaley\u001b[0m\u001b[0;34m=\u001b[0m\u001b[0mscaley\u001b[0m\u001b[0;34m)\u001b[0m\u001b[0;34m\u001b[0m\u001b[0;34m\u001b[0m\u001b[0m\n\u001b[0m\u001b[1;32m    779\u001b[0m \u001b[0;34m\u001b[0m\u001b[0m\n\u001b[1;32m    780\u001b[0m     \u001b[0;34m@\u001b[0m\u001b[0mproperty\u001b[0m\u001b[0;34m\u001b[0m\u001b[0;34m\u001b[0m\u001b[0m\n",
      "\u001b[0;32m/opt/hostedtoolcache/Python/3.7.12/x64/lib/python3.7/site-packages/matplotlib/axes/_base.py\u001b[0m in \u001b[0;36mautoscale_view\u001b[0;34m(self, tight, scalex, scaley)\u001b[0m\n\u001b[1;32m   2753\u001b[0m         handle_single_axis(\n\u001b[1;32m   2754\u001b[0m             \u001b[0mscalex\u001b[0m\u001b[0;34m,\u001b[0m \u001b[0mself\u001b[0m\u001b[0;34m.\u001b[0m\u001b[0m_autoscaleXon\u001b[0m\u001b[0;34m,\u001b[0m \u001b[0mself\u001b[0m\u001b[0;34m.\u001b[0m\u001b[0m_shared_x_axes\u001b[0m\u001b[0;34m,\u001b[0m \u001b[0;34m'intervalx'\u001b[0m\u001b[0;34m,\u001b[0m\u001b[0;34m\u001b[0m\u001b[0;34m\u001b[0m\u001b[0m\n\u001b[0;32m-> 2755\u001b[0;31m             'minposx', self.xaxis, self._xmargin, x_stickies, self.set_xbound)\n\u001b[0m\u001b[1;32m   2756\u001b[0m         handle_single_axis(\n\u001b[1;32m   2757\u001b[0m             \u001b[0mscaley\u001b[0m\u001b[0;34m,\u001b[0m \u001b[0mself\u001b[0m\u001b[0;34m.\u001b[0m\u001b[0m_autoscaleYon\u001b[0m\u001b[0;34m,\u001b[0m \u001b[0mself\u001b[0m\u001b[0;34m.\u001b[0m\u001b[0m_shared_y_axes\u001b[0m\u001b[0;34m,\u001b[0m \u001b[0;34m'intervaly'\u001b[0m\u001b[0;34m,\u001b[0m\u001b[0;34m\u001b[0m\u001b[0;34m\u001b[0m\u001b[0m\n",
      "\u001b[0;32m/opt/hostedtoolcache/Python/3.7.12/x64/lib/python3.7/site-packages/matplotlib/axes/_base.py\u001b[0m in \u001b[0;36mhandle_single_axis\u001b[0;34m(scale, autoscaleon, shared_axes, interval, minpos, axis, margin, stickies, set_bound)\u001b[0m\n\u001b[1;32m   2748\u001b[0m             \u001b[0;32mif\u001b[0m \u001b[0;32mnot\u001b[0m \u001b[0mself\u001b[0m\u001b[0;34m.\u001b[0m\u001b[0m_tight\u001b[0m\u001b[0;34m:\u001b[0m\u001b[0;34m\u001b[0m\u001b[0;34m\u001b[0m\u001b[0m\n\u001b[1;32m   2749\u001b[0m                 \u001b[0mx0\u001b[0m\u001b[0;34m,\u001b[0m \u001b[0mx1\u001b[0m \u001b[0;34m=\u001b[0m \u001b[0mlocator\u001b[0m\u001b[0;34m.\u001b[0m\u001b[0mview_limits\u001b[0m\u001b[0;34m(\u001b[0m\u001b[0mx0\u001b[0m\u001b[0;34m,\u001b[0m \u001b[0mx1\u001b[0m\u001b[0;34m)\u001b[0m\u001b[0;34m\u001b[0m\u001b[0;34m\u001b[0m\u001b[0m\n\u001b[0;32m-> 2750\u001b[0;31m             \u001b[0mset_bound\u001b[0m\u001b[0;34m(\u001b[0m\u001b[0mx0\u001b[0m\u001b[0;34m,\u001b[0m \u001b[0mx1\u001b[0m\u001b[0;34m)\u001b[0m\u001b[0;34m\u001b[0m\u001b[0;34m\u001b[0m\u001b[0m\n\u001b[0m\u001b[1;32m   2751\u001b[0m             \u001b[0;31m# End of definition of internal function 'handle_single_axis'.\u001b[0m\u001b[0;34m\u001b[0m\u001b[0;34m\u001b[0m\u001b[0;34m\u001b[0m\u001b[0m\n\u001b[1;32m   2752\u001b[0m \u001b[0;34m\u001b[0m\u001b[0m\n",
      "\u001b[0;32m/opt/hostedtoolcache/Python/3.7.12/x64/lib/python3.7/site-packages/matplotlib/axes/_base.py\u001b[0m in \u001b[0;36mset_xbound\u001b[0;34m(self, lower, upper)\u001b[0m\n\u001b[1;32m   3398\u001b[0m         self.set_xlim(sorted((lower, upper),\n\u001b[1;32m   3399\u001b[0m                              reverse=bool(self.xaxis_inverted())),\n\u001b[0;32m-> 3400\u001b[0;31m                       auto=None)\n\u001b[0m\u001b[1;32m   3401\u001b[0m \u001b[0;34m\u001b[0m\u001b[0m\n\u001b[1;32m   3402\u001b[0m     \u001b[0;32mdef\u001b[0m \u001b[0mget_xlim\u001b[0m\u001b[0;34m(\u001b[0m\u001b[0mself\u001b[0m\u001b[0;34m)\u001b[0m\u001b[0;34m:\u001b[0m\u001b[0;34m\u001b[0m\u001b[0;34m\u001b[0m\u001b[0m\n",
      "\u001b[0;32m/opt/hostedtoolcache/Python/3.7.12/x64/lib/python3.7/site-packages/matplotlib/axes/_base.py\u001b[0m in \u001b[0;36mset_xlim\u001b[0;34m(self, left, right, emit, auto, xmin, xmax)\u001b[0m\n\u001b[1;32m   3571\u001b[0m                 \u001b[0;32mif\u001b[0m \u001b[0mother\u001b[0m \u001b[0;32mis\u001b[0m \u001b[0;32mnot\u001b[0m \u001b[0mself\u001b[0m\u001b[0;34m:\u001b[0m\u001b[0;34m\u001b[0m\u001b[0;34m\u001b[0m\u001b[0m\n\u001b[1;32m   3572\u001b[0m                     other.set_xlim(self.viewLim.intervalx,\n\u001b[0;32m-> 3573\u001b[0;31m                                    emit=False, auto=auto)\n\u001b[0m\u001b[1;32m   3574\u001b[0m                     \u001b[0;32mif\u001b[0m \u001b[0mother\u001b[0m\u001b[0;34m.\u001b[0m\u001b[0mfigure\u001b[0m \u001b[0;34m!=\u001b[0m \u001b[0mself\u001b[0m\u001b[0;34m.\u001b[0m\u001b[0mfigure\u001b[0m\u001b[0;34m:\u001b[0m\u001b[0;34m\u001b[0m\u001b[0;34m\u001b[0m\u001b[0m\n\u001b[1;32m   3575\u001b[0m                         \u001b[0mother\u001b[0m\u001b[0;34m.\u001b[0m\u001b[0mfigure\u001b[0m\u001b[0;34m.\u001b[0m\u001b[0mcanvas\u001b[0m\u001b[0;34m.\u001b[0m\u001b[0mdraw_idle\u001b[0m\u001b[0;34m(\u001b[0m\u001b[0;34m)\u001b[0m\u001b[0;34m\u001b[0m\u001b[0;34m\u001b[0m\u001b[0m\n",
      "\u001b[0;32m/opt/hostedtoolcache/Python/3.7.12/x64/lib/python3.7/site-packages/matplotlib/axes/_base.py\u001b[0m in \u001b[0;36mset_xlim\u001b[0;34m(self, left, right, emit, auto, xmin, xmax)\u001b[0m\n\u001b[1;32m   3560\u001b[0m         \u001b[0mself\u001b[0m\u001b[0;34m.\u001b[0m\u001b[0m_viewLim\u001b[0m\u001b[0;34m.\u001b[0m\u001b[0mintervalx\u001b[0m \u001b[0;34m=\u001b[0m \u001b[0;34m(\u001b[0m\u001b[0mleft\u001b[0m\u001b[0;34m,\u001b[0m \u001b[0mright\u001b[0m\u001b[0;34m)\u001b[0m\u001b[0;34m\u001b[0m\u001b[0;34m\u001b[0m\u001b[0m\n\u001b[1;32m   3561\u001b[0m         \u001b[0;31m# Mark viewlims as no longer stale without triggering an autoscale.\u001b[0m\u001b[0;34m\u001b[0m\u001b[0;34m\u001b[0m\u001b[0;34m\u001b[0m\u001b[0m\n\u001b[0;32m-> 3562\u001b[0;31m         \u001b[0;32mfor\u001b[0m \u001b[0max\u001b[0m \u001b[0;32min\u001b[0m \u001b[0mself\u001b[0m\u001b[0;34m.\u001b[0m\u001b[0m_shared_x_axes\u001b[0m\u001b[0;34m.\u001b[0m\u001b[0mget_siblings\u001b[0m\u001b[0;34m(\u001b[0m\u001b[0mself\u001b[0m\u001b[0;34m)\u001b[0m\u001b[0;34m:\u001b[0m\u001b[0;34m\u001b[0m\u001b[0;34m\u001b[0m\u001b[0m\n\u001b[0m\u001b[1;32m   3563\u001b[0m             \u001b[0max\u001b[0m\u001b[0;34m.\u001b[0m\u001b[0m_stale_viewlim_x\u001b[0m \u001b[0;34m=\u001b[0m \u001b[0;32mFalse\u001b[0m\u001b[0;34m\u001b[0m\u001b[0;34m\u001b[0m\u001b[0m\n\u001b[1;32m   3564\u001b[0m         \u001b[0;32mif\u001b[0m \u001b[0mauto\u001b[0m \u001b[0;32mis\u001b[0m \u001b[0;32mnot\u001b[0m \u001b[0;32mNone\u001b[0m\u001b[0;34m:\u001b[0m\u001b[0;34m\u001b[0m\u001b[0;34m\u001b[0m\u001b[0m\n",
      "\u001b[0;32m/opt/hostedtoolcache/Python/3.7.12/x64/lib/python3.7/site-packages/matplotlib/cbook/__init__.py\u001b[0m in \u001b[0;36mget_siblings\u001b[0;34m(self, a)\u001b[0m\n\u001b[1;32m    907\u001b[0m     \u001b[0;32mdef\u001b[0m \u001b[0mget_siblings\u001b[0m\u001b[0;34m(\u001b[0m\u001b[0mself\u001b[0m\u001b[0;34m,\u001b[0m \u001b[0ma\u001b[0m\u001b[0;34m)\u001b[0m\u001b[0;34m:\u001b[0m\u001b[0;34m\u001b[0m\u001b[0;34m\u001b[0m\u001b[0m\n\u001b[1;32m    908\u001b[0m         \u001b[0;34m\"\"\"Return all of the items joined with *a*, including itself.\"\"\"\u001b[0m\u001b[0;34m\u001b[0m\u001b[0;34m\u001b[0m\u001b[0m\n\u001b[0;32m--> 909\u001b[0;31m         \u001b[0mself\u001b[0m\u001b[0;34m.\u001b[0m\u001b[0mclean\u001b[0m\u001b[0;34m(\u001b[0m\u001b[0;34m)\u001b[0m\u001b[0;34m\u001b[0m\u001b[0;34m\u001b[0m\u001b[0m\n\u001b[0m\u001b[1;32m    910\u001b[0m         \u001b[0msiblings\u001b[0m \u001b[0;34m=\u001b[0m \u001b[0mself\u001b[0m\u001b[0;34m.\u001b[0m\u001b[0m_mapping\u001b[0m\u001b[0;34m.\u001b[0m\u001b[0mget\u001b[0m\u001b[0;34m(\u001b[0m\u001b[0mweakref\u001b[0m\u001b[0;34m.\u001b[0m\u001b[0mref\u001b[0m\u001b[0;34m(\u001b[0m\u001b[0ma\u001b[0m\u001b[0;34m)\u001b[0m\u001b[0;34m,\u001b[0m \u001b[0;34m[\u001b[0m\u001b[0mweakref\u001b[0m\u001b[0;34m.\u001b[0m\u001b[0mref\u001b[0m\u001b[0;34m(\u001b[0m\u001b[0ma\u001b[0m\u001b[0;34m)\u001b[0m\u001b[0;34m]\u001b[0m\u001b[0;34m)\u001b[0m\u001b[0;34m\u001b[0m\u001b[0;34m\u001b[0m\u001b[0m\n\u001b[1;32m    911\u001b[0m         \u001b[0;32mreturn\u001b[0m \u001b[0;34m[\u001b[0m\u001b[0mx\u001b[0m\u001b[0;34m(\u001b[0m\u001b[0;34m)\u001b[0m \u001b[0;32mfor\u001b[0m \u001b[0mx\u001b[0m \u001b[0;32min\u001b[0m \u001b[0msiblings\u001b[0m\u001b[0;34m]\u001b[0m\u001b[0;34m\u001b[0m\u001b[0;34m\u001b[0m\u001b[0m\n",
      "\u001b[0;32m/opt/hostedtoolcache/Python/3.7.12/x64/lib/python3.7/site-packages/matplotlib/cbook/__init__.py\u001b[0m in \u001b[0;36mclean\u001b[0;34m(self)\u001b[0m\n\u001b[1;32m    859\u001b[0m         \u001b[0;34m\"\"\"Clean dead weak references from the dictionary.\"\"\"\u001b[0m\u001b[0;34m\u001b[0m\u001b[0;34m\u001b[0m\u001b[0m\n\u001b[1;32m    860\u001b[0m         \u001b[0mmapping\u001b[0m \u001b[0;34m=\u001b[0m \u001b[0mself\u001b[0m\u001b[0;34m.\u001b[0m\u001b[0m_mapping\u001b[0m\u001b[0;34m\u001b[0m\u001b[0;34m\u001b[0m\u001b[0m\n\u001b[0;32m--> 861\u001b[0;31m         \u001b[0mto_drop\u001b[0m \u001b[0;34m=\u001b[0m \u001b[0;34m[\u001b[0m\u001b[0mkey\u001b[0m \u001b[0;32mfor\u001b[0m \u001b[0mkey\u001b[0m \u001b[0;32min\u001b[0m \u001b[0mmapping\u001b[0m \u001b[0;32mif\u001b[0m \u001b[0mkey\u001b[0m\u001b[0;34m(\u001b[0m\u001b[0;34m)\u001b[0m \u001b[0;32mis\u001b[0m \u001b[0;32mNone\u001b[0m\u001b[0;34m]\u001b[0m\u001b[0;34m\u001b[0m\u001b[0;34m\u001b[0m\u001b[0m\n\u001b[0m\u001b[1;32m    862\u001b[0m         \u001b[0;32mfor\u001b[0m \u001b[0mkey\u001b[0m \u001b[0;32min\u001b[0m \u001b[0mto_drop\u001b[0m\u001b[0;34m:\u001b[0m\u001b[0;34m\u001b[0m\u001b[0;34m\u001b[0m\u001b[0m\n\u001b[1;32m    863\u001b[0m             \u001b[0mval\u001b[0m \u001b[0;34m=\u001b[0m \u001b[0mmapping\u001b[0m\u001b[0;34m.\u001b[0m\u001b[0mpop\u001b[0m\u001b[0;34m(\u001b[0m\u001b[0mkey\u001b[0m\u001b[0;34m)\u001b[0m\u001b[0;34m\u001b[0m\u001b[0;34m\u001b[0m\u001b[0m\n",
      "\u001b[0;32m/opt/hostedtoolcache/Python/3.7.12/x64/lib/python3.7/site-packages/matplotlib/cbook/__init__.py\u001b[0m in \u001b[0;36m<listcomp>\u001b[0;34m(.0)\u001b[0m\n\u001b[1;32m    859\u001b[0m         \u001b[0;34m\"\"\"Clean dead weak references from the dictionary.\"\"\"\u001b[0m\u001b[0;34m\u001b[0m\u001b[0;34m\u001b[0m\u001b[0m\n\u001b[1;32m    860\u001b[0m         \u001b[0mmapping\u001b[0m \u001b[0;34m=\u001b[0m \u001b[0mself\u001b[0m\u001b[0;34m.\u001b[0m\u001b[0m_mapping\u001b[0m\u001b[0;34m\u001b[0m\u001b[0;34m\u001b[0m\u001b[0m\n\u001b[0;32m--> 861\u001b[0;31m         \u001b[0mto_drop\u001b[0m \u001b[0;34m=\u001b[0m \u001b[0;34m[\u001b[0m\u001b[0mkey\u001b[0m \u001b[0;32mfor\u001b[0m \u001b[0mkey\u001b[0m \u001b[0;32min\u001b[0m \u001b[0mmapping\u001b[0m \u001b[0;32mif\u001b[0m \u001b[0mkey\u001b[0m\u001b[0;34m(\u001b[0m\u001b[0;34m)\u001b[0m \u001b[0;32mis\u001b[0m \u001b[0;32mNone\u001b[0m\u001b[0;34m]\u001b[0m\u001b[0;34m\u001b[0m\u001b[0;34m\u001b[0m\u001b[0m\n\u001b[0m\u001b[1;32m    862\u001b[0m         \u001b[0;32mfor\u001b[0m \u001b[0mkey\u001b[0m \u001b[0;32min\u001b[0m \u001b[0mto_drop\u001b[0m\u001b[0;34m:\u001b[0m\u001b[0;34m\u001b[0m\u001b[0;34m\u001b[0m\u001b[0m\n\u001b[1;32m    863\u001b[0m             \u001b[0mval\u001b[0m \u001b[0;34m=\u001b[0m \u001b[0mmapping\u001b[0m\u001b[0;34m.\u001b[0m\u001b[0mpop\u001b[0m\u001b[0;34m(\u001b[0m\u001b[0mkey\u001b[0m\u001b[0;34m)\u001b[0m\u001b[0;34m\u001b[0m\u001b[0;34m\u001b[0m\u001b[0m\n",
      "\u001b[0;31mKeyboardInterrupt\u001b[0m: "
     ]
    }
   ],
   "source": [
    "sns.lmplot(data=coffee_df,x='Flavor',y='Balance',hue='Color',\n",
    "               row='Color',col='Country.of.Origin')"
   ]
  },
  {
   "cell_type": "markdown",
   "id": "da1c6de4",
   "metadata": {},
   "source": [
    "How could we choose which countries to select to make this not show the ones\n",
    "with very few points?"
   ]
  },
  {
   "cell_type": "code",
   "execution_count": null,
   "id": "e8038c4e",
   "metadata": {},
   "outputs": [],
   "source": [
    "coffee_df['Country.of.Origin'].value_counts()"
   ]
  },
  {
   "cell_type": "markdown",
   "id": "950d1a02",
   "metadata": {},
   "source": [
    " Or we can focus on the countried, but wrap them."
   ]
  },
  {
   "cell_type": "code",
   "execution_count": null,
   "id": "a1b24fff",
   "metadata": {},
   "outputs": [],
   "source": [
    "sns.lmplot(data=coffee_df,x='Flavor',y='Balance',hue='Color',\n",
    "               col='Country.of.Origin',col_wrap=5)"
   ]
  },
  {
   "cell_type": "markdown",
   "id": "d670832c",
   "metadata": {},
   "source": [
    "## Questions after class\n",
    "\n",
    "```{admonition} Ram Token Opportunity\n",
    "add a question with a pull request; earn 1-2 ram tokens for submitting a question with the answer (with sources)\n",
    "```\n",
    "\n",
    "## More practice\n",
    "\n",
    "1. Plot the kde for the `Aftertaste`\n",
    "1. How does `Total.Cup.Points` vary by `Certification.Body`\n",
    "1. Are  moisture and sweetness related? Does that relationship vary by Color?"
   ]
  }
 ],
 "metadata": {
  "jupytext": {
   "text_representation": {
    "extension": ".md",
    "format_name": "myst",
    "format_version": 0.13,
    "jupytext_version": "1.10.3"
   }
  },
  "kernelspec": {
   "display_name": "Python 3",
   "language": "python",
   "name": "python3"
  },
  "language_info": {
   "codemirror_mode": {
    "name": "ipython",
    "version": 3
   },
   "file_extension": ".py",
   "mimetype": "text/x-python",
   "name": "python",
   "nbconvert_exporter": "python",
   "pygments_lexer": "ipython3",
   "version": "3.7.12"
  },
  "source_map": [
   12,
   16,
   19,
   29,
   32,
   36,
   38,
   42,
   44,
   55,
   59,
   64,
   66,
   74,
   76,
   90,
   92,
   104,
   106,
   110,
   112,
   131,
   136,
   139,
   148,
   150,
   153,
   155,
   160,
   162,
   166,
   168,
   172,
   174,
   179,
   184,
   197,
   199,
   202,
   204,
   213,
   215,
   218,
   221,
   224,
   226,
   242,
   244,
   248,
   250,
   257,
   260,
   263,
   266,
   270,
   273,
   277,
   279,
   282,
   285
  ]
 },
 "nbformat": 4,
 "nbformat_minor": 5
}