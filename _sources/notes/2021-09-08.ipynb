{
 "cells": [
  {
   "cell_type": "markdown",
   "id": "f3576214",
   "metadata": {},
   "source": [
    "# Jupyter Notebook Tour & Python Review\n",
    "\n",
    "- heleo\n",
    "- bye\n",
    "\n",
    "1. step 1\n",
    "1. kfj\n",
    "1. sdkfjsflkj"
   ]
  },
  {
   "cell_type": "code",
   "execution_count": 1,
   "id": "d59ce197",
   "metadata": {},
   "outputs": [
    {
     "data": {
      "text/plain": [
       "10"
      ]
     },
     "execution_count": 1,
     "metadata": {},
     "output_type": "execute_result"
    }
   ],
   "source": [
    "4+6"
   ]
  },
  {
   "cell_type": "code",
   "execution_count": 2,
   "id": "955ed5b4",
   "metadata": {},
   "outputs": [
    {
     "data": {
      "text/plain": [
       "'sarahsarahsarah'"
      ]
     },
     "execution_count": 2,
     "metadata": {},
     "output_type": "execute_result"
    }
   ],
   "source": [
    "name = 'sarah'\n",
    "4+5\n",
    "name *3"
   ]
  },
  {
   "cell_type": "markdown",
   "id": "ba5def81",
   "metadata": {},
   "source": [
    "Assignment 1\n",
    "Assignment 1:\n",
    "\n",
    "setup your portfolio\n",
    "check that you understand the grading\n",
    "review Python basics\n",
    "practice with git and GitHub :github:"
   ]
  },
  {
   "cell_type": "markdown",
   "id": "f75ed759",
   "metadata": {},
   "source": [
    "![comic](https://raw.githubusercontent.com/rhodyprog4ds/rhodyds/main/img/phd_versioning.png)"
   ]
  },
  {
   "cell_type": "markdown",
   "id": "ee050c15",
   "metadata": {},
   "source": [
    "![](https://raw.githubusercontent.com/rhodyprog4ds/rhodyds/main/img/project_folder.svg)"
   ]
  },
  {
   "cell_type": "markdown",
   "id": "4cfd98b2",
   "metadata": {},
   "source": [
    "![](https://raw.githubusercontent.com/rhodyprog4ds/rhodyds/main/img/git_repository.svg)"
   ]
  },
  {
   "cell_type": "code",
   "execution_count": null,
   "id": "396cf414",
   "metadata": {},
   "outputs": [],
   "source": []
  }
 ],
 "metadata": {
  "jupytext": {
   "text_representation": {
    "extension": ".md",
    "format_name": "myst",
    "format_version": 0.13,
    "jupytext_version": "1.10.3"
   }
  },
  "kernelspec": {
   "display_name": "Python 3",
   "language": "python",
   "name": "python3"
  },
  "language_info": {
   "codemirror_mode": {
    "name": "ipython",
    "version": 3
   },
   "file_extension": ".py",
   "mimetype": "text/x-python",
   "name": "python",
   "nbconvert_exporter": "python",
   "pygments_lexer": "ipython3",
   "version": "3.7.11"
  },
  "source_map": [
   12,
   23,
   27,
   31,
   41,
   45,
   49,
   53
  ]
 },
 "nbformat": 4,
 "nbformat_minor": 5
}